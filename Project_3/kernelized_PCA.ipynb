{
 "cells": [
  {
   "cell_type": "markdown",
   "metadata": {
    "id": "T5fOpgpNSXVr"
   },
   "source": [
    "# Logistics\n",
    "Assignment 3 - Part 4\n",
    "\n",
    "Name: Sayan Ray\n",
    "\n",
    "Roll: 213230011"
   ]
  },
  {
   "cell_type": "markdown",
   "metadata": {
    "id": "JIfsUP3CSY94"
   },
   "source": [
    "# Kernelized Principle Component Analysis.\n",
    "\n",
    "---\n",
    "\n"
   ]
  },
  {
   "cell_type": "markdown",
   "metadata": {
    "id": "VYmHrijXSdSC"
   },
   "source": [
    "# Importing The required packages."
   ]
  },
  {
   "cell_type": "code",
   "execution_count": 59,
   "metadata": {
    "id": "5ep9KxJKSWsB"
   },
   "outputs": [],
   "source": [
    "# This are the standard packages imported\n",
    "import numpy as np\n",
    "import pandas as pd\n",
    "\n",
    "# Imported for plotting and visualization\n",
    "from matplotlib import pyplot as plt\n",
    "import seaborn as sns\n",
    "\n",
    "# FOr normalizing the dataset to a mean 0 and s.d. ±1\n",
    "from sklearn.preprocessing import StandardScaler\n",
    "\n",
    "# For performing Kernelized PCA\n",
    "from sklearn.decomposition import KernelPCA\n"
   ]
  },
  {
   "cell_type": "markdown",
   "metadata": {
    "id": "H08wjUZ9Shww"
   },
   "source": [
    "Learned the code I need to use to uplad DataClustering.csv from a local drive from https://www.geeksforgeeks.org/ways-to-import-csv-files-in-google-colab/"
   ]
  },
  {
   "cell_type": "markdown",
   "metadata": {
    "id": "VI2Gn3b_Z3s7"
   },
   "source": [
    "# Loading the dataset in a dataframe named 'PCA_train_df'."
   ]
  },
  {
   "cell_type": "code",
   "execution_count": 60,
   "metadata": {
    "id": "ds--r1olSpoh"
   },
   "outputs": [],
   "source": [
    "KPCA_train_df = pd.read_csv('https://www.ee.iitb.ac.in/~asethi/Dump/DataKPCA.csv')"
   ]
  },
  {
   "cell_type": "markdown",
   "metadata": {
    "id": "c2y5QW2faCaa"
   },
   "source": [
    "Displaying the dataset, with rows and columns info."
   ]
  },
  {
   "cell_type": "code",
   "execution_count": 61,
   "metadata": {
    "colab": {
     "base_uri": "https://localhost:8080/"
    },
    "id": "FhQ2r_ILaC-i",
    "outputId": "3ac7820a-08fb-4b12-cce2-f053f5280ea7"
   },
   "outputs": [
    {
     "name": "stdout",
     "output_type": "stream",
     "text": [
      "(190, 7)\n",
      "           x1         x2         x3         x4        x5        x6        x7\n",
      "0    2.596641  15.263178 -46.289607 -10.993265 -2.266729  1.935832  2.039688\n",
      "1    3.096286  14.784802 -48.175614  -8.799362 -2.220871  1.851201  1.921974\n",
      "2    3.360246  14.774917 -49.471841  -9.030501 -1.760447  1.753114  2.041933\n",
      "3    2.214819  15.027394 -43.200400 -13.565001 -2.643018  2.200463  2.141847\n",
      "4    3.398576  15.115756 -49.416644  -6.857672 -2.025936  1.788085  1.875540\n",
      "..        ...        ...        ...        ...       ...       ...       ...\n",
      "185  2.647090  14.246231 -44.947807 -10.412540 -2.809695  2.084152  1.903990\n",
      "186  2.677908  14.620351 -45.776334 -10.196029 -2.640178  2.038005  1.910832\n",
      "187  3.543866  14.487241 -49.692284  -7.773038 -1.865513  1.752195  1.952922\n",
      "188  3.563404  13.945495 -49.131439  -8.156546 -2.104684  1.773425  1.914397\n",
      "189  3.718648  13.810806 -49.414929  -7.661211 -2.154060  1.773895  1.901090\n",
      "\n",
      "[190 rows x 7 columns]\n"
     ]
    }
   ],
   "source": [
    "print (KPCA_train_df.shape)\n",
    "print (KPCA_train_df)"
   ]
  },
  {
   "cell_type": "markdown",
   "metadata": {
    "id": "89Mwl79GaIka"
   },
   "source": [
    "Conclusion: There are 190 rows of data with 7 features. With no target variable. "
   ]
  },
  {
   "cell_type": "markdown",
   "metadata": {
    "id": "_rtb8r3NaLIZ"
   },
   "source": [
    "\n",
    "\n",
    "---\n",
    "\n",
    "\n",
    "# Exploaratory Data Analysis.\n",
    "\n",
    "\n",
    "---\n",
    "\n"
   ]
  },
  {
   "cell_type": "markdown",
   "metadata": {
    "id": "-b9eSFvdaMFi"
   },
   "source": [
    "# Feature datatype check and check for missing values.  "
   ]
  },
  {
   "cell_type": "code",
   "execution_count": 62,
   "metadata": {
    "colab": {
     "base_uri": "https://localhost:8080/"
    },
    "id": "2d5vnToSaO1k",
    "outputId": "08b67da3-8d38-43ac-b36a-fdcf3b195b40"
   },
   "outputs": [
    {
     "name": "stdout",
     "output_type": "stream",
     "text": [
      "1. x1 is of type float64 has 190 unique values, and 0 null entries\n",
      "2. x2 is of type float64 has 190 unique values, and 0 null entries\n",
      "3. x3 is of type float64 has 190 unique values, and 0 null entries\n",
      "4. x4 is of type float64 has 190 unique values, and 0 null entries\n",
      "5. x5 is of type float64 has 190 unique values, and 0 null entries\n",
      "6. x6 is of type float64 has 190 unique values, and 0 null entries\n",
      "7. x7 is of type float64 has 190 unique values, and 0 null entries\n"
     ]
    }
   ],
   "source": [
    "# This part is inspired from Amit Sir's Lecuture on ML for Smart Monkeys\n",
    "# I am checking for the unique values and features with missing entities\n",
    "\n",
    "# c is just the counter of the features.\n",
    "c = 1\n",
    "\n",
    "for col in KPCA_train_df.columns.values:\n",
    "  list_vals = pd.unique(KPCA_train_df[col])\n",
    "  \n",
    "  # So isnull() scans the missing values and then we sum it up.\n",
    "  print(str(c) +\". \"+col + \" is of type \" + str(KPCA_train_df[col].dtypes) + \" has \" + str(len(list_vals)) + \" unique values, and \" + str(KPCA_train_df[col].isnull().sum(axis=0)) + \" null entries\")\n",
    "  c = c + 1\n",
    "  if len(list_vals) < 10:\n",
    "    list_str=\"\"\n",
    "    for n_value in range (0,len(list_vals)):\n",
    "      list_str = list_str + str(list_vals[n_value]) + ','\n",
    "    print(\"These are: \" + list_str[0:-1])"
   ]
  },
  {
   "cell_type": "markdown",
   "metadata": {
    "id": "Qguz8xEVaTSa"
   },
   "source": [
    "\n",
    "# **Conclusion**: There are no null entries thus there is no need for removal or imputation of the dataset."
   ]
  },
  {
   "cell_type": "markdown",
   "metadata": {
    "id": "UR537cDZaZEz"
   },
   "source": [
    "# Histograms of the features."
   ]
  },
  {
   "cell_type": "code",
   "execution_count": 63,
   "metadata": {
    "colab": {
     "base_uri": "https://localhost:8080/",
     "height": 1000
    },
    "id": "gOXuea4caWT6",
    "outputId": "2870c223-c6de-467e-f2dc-fe88ca1d3425"
   },
   "outputs": [
    {
     "data": {
      "image/png": "[encoded data removed]",
      "text/plain": [
       "<Figure size 432x288 with 1 Axes>"
      ]
     },
     "metadata": {
      "needs_background": "light"
     },
     "output_type": "display_data"
    },
    {
     "name": "stdout",
     "output_type": "stream",
     "text": [
      "\n"
     ]
    },
    {
     "data": {
      "image/png": "[encoded data removed]",
      "text/plain": [
       "<Figure size 432x288 with 1 Axes>"
      ]
     },
     "metadata": {
      "needs_background": "light"
     },
     "output_type": "display_data"
    },
    {
     "name": "stdout",
     "output_type": "stream",
     "text": [
      "\n"
     ]
    },
    {
     "data": {
      "image/png": "[encoded data removed]",
      "text/plain": [
       "<Figure size 432x288 with 1 Axes>"
      ]
     },
     "metadata": {
      "needs_background": "light"
     },
     "output_type": "display_data"
    },
    {
     "name": "stdout",
     "output_type": "stream",
     "text": [
      "\n"
     ]
    },
    {
     "data": {
      "image/png": "[encoded data removed]",
      "text/plain": [
       "<Figure size 432x288 with 1 Axes>"
      ]
     },
     "metadata": {
      "needs_background": "light"
     },
     "output_type": "display_data"
    },
    {
     "name": "stdout",
     "output_type": "stream",
     "text": [
      "\n"
     ]
    },
    {
     "data": {
      "image/png": "[encoded data removed]",
      "text/plain": [
       "<Figure size 432x288 with 1 Axes>"
      ]
     },
     "metadata": {
      "needs_background": "light"
     },
     "output_type": "display_data"
    },
    {
     "name": "stdout",
     "output_type": "stream",
     "text": [
      "\n"
     ]
    },
    {
     "data": {
      "image/png": "[encoded data removed]",
      "text/plain": [
       "<Figure size 432x288 with 1 Axes>"
      ]
     },
     "metadata": {
      "needs_background": "light"
     },
     "output_type": "display_data"
    },
    {
     "name": "stdout",
     "output_type": "stream",
     "text": [
      "\n"
     ]
    },
    {
     "data": {
      "image/png": "[encoded data removed]",
      "text/plain": [
       "<Figure size 432x288 with 1 Axes>"
      ]
     },
     "metadata": {
      "needs_background": "light"
     },
     "output_type": "display_data"
    },
    {
     "name": "stdout",
     "output_type": "stream",
     "text": [
      "\n"
     ]
    }
   ],
   "source": [
    "#To visualize the variables since all are continous we are creating histograms to understand their distribution\n",
    "# So now taking all the features and checking their histograms\n",
    "\n",
    "for feature in KPCA_train_df.columns.values:\n",
    "    # I chose bin size 50 since it helped me visialize the shape easier.\n",
    "    KPCA_train_df[feature].hist(bins=50)\n",
    "\n",
    "    plt.xlabel(feature)\n",
    "    plt.ylabel(\"Frequency\")\n",
    "    \n",
    "    plt.title(feature + \"Histogram\")\n",
    "    plt.show()\n",
    "    print()"
   ]
  },
  {
   "cell_type": "markdown",
   "metadata": {
    "id": "-A9nAvYuadj3"
   },
   "source": [
    "# **Conclusion**: x6 feature seems to be highly skewed, and the rest are slighly skewed and not exactly gaussian.\n",
    "\n",
    "Also, their ranges vary and thus we need to Normalize to zero mean and unit s.d. before using the PCA function."
   ]
  },
  {
   "cell_type": "markdown",
   "metadata": {
    "id": "vx4eip35agEX"
   },
   "source": [
    "# Pearson Correlation Heatmap."
   ]
  },
  {
   "cell_type": "code",
   "execution_count": 64,
   "metadata": {
    "colab": {
     "base_uri": "https://localhost:8080/",
     "height": 432
    },
    "id": "WU4UEQgzaePn",
    "outputId": "1a5c62cd-407b-4e6d-9ee1-59f176a84df9"
   },
   "outputs": [
    {
     "data": {
      "image/png": "[encoded data removed]",
      "text/plain": [
       "<Figure size 504x504 with 2 Axes>"
      ]
     },
     "metadata": {
      "needs_background": "light"
     },
     "output_type": "display_data"
    }
   ],
   "source": [
    "# So I'll be using the most commonly used correlation methon, Pearson's Correlation \n",
    "corr_pearson = KPCA_train_df.corr(method= 'pearson')\n",
    "\n",
    "#Now making a heatmap out of it.\n",
    "fig, ax = plt.subplots(figsize=(7,7))\n",
    "sns.heatmap(abs(corr_pearson), annot = True)\n",
    "plt.show()"
   ]
  },
  {
   "cell_type": "markdown",
   "metadata": {
    "id": "KAoUbZSAai_X"
   },
   "source": [
    "#**Conclusion**: From this Pearson correlation heatmap, we can see there does exist some an amount of correlation amongst the features. \n",
    "Evidently:\n",
    "\n",
    "1. x1 has high correlation with x3, x4.\n",
    "2. x3 has high correlation with x4, x5 and x6.\n",
    "3. x5 has high correlation with x6.\n",
    "\n"
   ]
  },
  {
   "cell_type": "markdown",
   "metadata": {
    "id": "WfODpjKsE-Of"
   },
   "source": [
    "# Now we need not know the nature of correlation, it will be removed during PCA ."
   ]
  },
  {
   "cell_type": "markdown",
   "metadata": {
    "id": "NM5MxZPMalRO"
   },
   "source": [
    "\n",
    "\n",
    "---\n",
    "\n",
    "\n",
    "# Training PCA on the dataset.\n",
    "\n",
    "\n",
    "---\n",
    "\n"
   ]
  },
  {
   "cell_type": "markdown",
   "metadata": {
    "id": "V6xmInuMan_n"
   },
   "source": [
    "# Normalizing the data using standard scaler."
   ]
  },
  {
   "cell_type": "code",
   "execution_count": 65,
   "metadata": {
    "id": "IvLXGrL_aqRH"
   },
   "outputs": [],
   "source": [
    "# Normalizing the dataset to a mean 0 and s.d. ±1\n",
    "scaler = StandardScaler()\n",
    "scaled_data = scaler.fit_transform(KPCA_train_df)"
   ]
  },
  {
   "cell_type": "markdown",
   "metadata": {
    "id": "Kpks_rZ6atXi"
   },
   "source": [
    "\n",
    "\n",
    "---\n",
    "\n",
    "\n",
    "# Training PCA (3 RBF kernels with gamma : 0.001, 0.01, 0.1)\n",
    "\n",
    "---\n",
    "\n"
   ]
  },
  {
   "cell_type": "markdown",
   "metadata": {
    "id": "YM4Sdxd9NEGc"
   },
   "source": [
    "# I am keeping an array to store all the explained variances of the models so that I can compare them later."
   ]
  },
  {
   "cell_type": "code",
   "execution_count": 66,
   "metadata": {
    "id": "L9Zk_8YKKIol"
   },
   "outputs": [],
   "source": [
    "overall_plot = []"
   ]
  },
  {
   "cell_type": "markdown",
   "metadata": {
    "id": "G8iNU-SNz2bn"
   },
   "source": [
    "# RBF Kernel (gamma = 0.001 )"
   ]
  },
  {
   "cell_type": "code",
   "execution_count": 67,
   "metadata": {
    "colab": {
     "base_uri": "https://localhost:8080/"
    },
    "id": "Kr8LHEp30TKX",
    "outputId": "73f06f7e-7337-4582-a313-9daeb63b8a6e"
   },
   "outputs": [
    {
     "name": "stdout",
     "output_type": "stream",
     "text": [
      "(190, 172)\n"
     ]
    }
   ],
   "source": [
    "# Setting up th KPCA function\n",
    "kpca_rbf = KernelPCA(kernel='rbf',gamma=0.005)\n",
    "\n",
    "# Transforming\n",
    "kpca_rbf_data = kpca_rbf.fit_transform(scaled_data)\n",
    "print (kpca_rbf_data.shape)\n",
    "\n",
    "# Storing the explained variances\n",
    "exp_var_rbf = np.var(kpca_rbf_data, axis=0)\n",
    "\n",
    "# Converting them to percentages\n",
    "exp_var_rbf_percentage = (exp_var_rbf * 100 )/ np.sum(exp_var_rbf)"
   ]
  },
  {
   "cell_type": "markdown",
   "metadata": {
    "id": "CEfvamCP0UF3"
   },
   "source": [
    " Results"
   ]
  },
  {
   "cell_type": "code",
   "execution_count": 68,
   "metadata": {
    "colab": {
     "base_uri": "https://localhost:8080/"
    },
    "id": "QkR_WcGb0VSJ",
    "outputId": "754c28f7-66fe-4c28-c975-4abda9672a35"
   },
   "outputs": [
    {
     "name": "stdout",
     "output_type": "stream",
     "text": [
      "Explained Variance for PCA dimension 1 is  : 53.58766670601172 %\n",
      "Explained Variance for PCA dimension 2 is  : 30.59494885230951 %\n",
      "Explained Variance for PCA dimension 3 is  : 7.778196528386278 %\n",
      "Explained Variance for PCA dimension 4 is  : 4.192408810643227 %\n",
      "Explained Variance for PCA dimension 5 is  : 1.154302955420627 %\n",
      "Explained Variance for PCA dimension 6 is  : 0.9310642268648731 %\n",
      "Explained Variance for PCA dimension 7 is  : 0.7424973362727629 %\n",
      "Explained Variance for PCA dimension 8 is  : 0.39328812544057445 %\n",
      "Explained Variance for PCA dimension 9 is  : 0.2062637901472143 %\n",
      "Explained Variance for PCA dimension 10 is  : 0.13125998114215573 %\n"
     ]
    }
   ],
   "source": [
    "# A small precaution for plotting \n",
    "min_dim2 = min(kpca_rbf_data.shape[1],10)\n",
    "dim = list(range(1,min_dim2+1))\n",
    "\n",
    "c = 0\n",
    "for d in dim:\n",
    "  print (\"Explained Variance for PCA dimension \"+str(d)+\" is  : \"+str(exp_var_rbf_percentage[c])+\" %\")\n",
    "  c+=1\n",
    "\n",
    "overall_plot.append(exp_var_rbf_percentage[0:min_dim2])"
   ]
  },
  {
   "cell_type": "markdown",
   "metadata": {
    "id": "tei6UiEp0ZW_"
   },
   "source": [
    "Plot"
   ]
  },
  {
   "cell_type": "code",
   "execution_count": 69,
   "metadata": {
    "colab": {
     "base_uri": "https://localhost:8080/",
     "height": 279
    },
    "id": "tk9i5Qyc0a5v",
    "outputId": "9466b7a6-bdc0-41f6-b5b1-505d9d4de70f"
   },
   "outputs": [
    {
     "data": {
      "image/png": "[encoded data removed]",
      "text/plain": [
       "<Figure size 432x288 with 1 Axes>"
      ]
     },
     "metadata": {
      "needs_background": "light"
     },
     "output_type": "display_data"
    }
   ],
   "source": [
    "plt.plot(dim,exp_var_rbf_percentage[0:min_dim2],marker = 'o',markerfacecolor = 'red')\n",
    "plt.xlabel('Dimension Number')\n",
    "plt.ylabel('Explained Variance')\n",
    "plt.show()"
   ]
  },
  {
   "cell_type": "markdown",
   "metadata": {
    "id": "xnrfw4yWB0Dw"
   },
   "source": [
    "# RBF Kernel (gamma = 0.01)"
   ]
  },
  {
   "cell_type": "code",
   "execution_count": 70,
   "metadata": {
    "colab": {
     "base_uri": "https://localhost:8080/"
    },
    "id": "LdGs7vZqB0D4",
    "outputId": "e5556844-cf6c-4e83-db12-2dd14664cbfe"
   },
   "outputs": [
    {
     "name": "stdout",
     "output_type": "stream",
     "text": [
      "(190, 187)\n"
     ]
    }
   ],
   "source": [
    "# Setting up th KPCA function\n",
    "kpca_rbf = KernelPCA(kernel='rbf',gamma=0.01)\n",
    "\n",
    "# Transforming\n",
    "kpca_rbf_data = kpca_rbf.fit_transform(scaled_data)\n",
    "print (kpca_rbf_data.shape)\n",
    "\n",
    "# Storing the explained variances\n",
    "exp_var_rbf = np.var(kpca_rbf_data, axis=0)\n",
    "\n",
    "# Converting thme to percentages\n",
    "exp_var_rbf_percentage = (exp_var_rbf * 100 )/ np.sum(exp_var_rbf)"
   ]
  },
  {
   "cell_type": "markdown",
   "metadata": {
    "id": "mFFaCDFkB0D4"
   },
   "source": [
    "Results"
   ]
  },
  {
   "cell_type": "code",
   "execution_count": 71,
   "metadata": {
    "colab": {
     "base_uri": "https://localhost:8080/"
    },
    "id": "ruAsQkghB0D4",
    "outputId": "5d050bfe-7c19-414a-e2b5-684d177d0fb8"
   },
   "outputs": [
    {
     "name": "stdout",
     "output_type": "stream",
     "text": [
      "Explained Variance for PCA dimension 1 is  : 50.152572848924734 %\n",
      "Explained Variance for PCA dimension 2 is  : 29.45402776750245 %\n",
      "Explained Variance for PCA dimension 3 is  : 8.876807595835622 %\n",
      "Explained Variance for PCA dimension 4 is  : 5.1100005667187895 %\n",
      "Explained Variance for PCA dimension 5 is  : 1.8731635537280316 %\n",
      "Explained Variance for PCA dimension 6 is  : 1.6088696595932177 %\n",
      "Explained Variance for PCA dimension 7 is  : 0.994038252089959 %\n",
      "Explained Variance for PCA dimension 8 is  : 0.7450273344750733 %\n",
      "Explained Variance for PCA dimension 9 is  : 0.3110376551042327 %\n",
      "Explained Variance for PCA dimension 10 is  : 0.21813011493379483 %\n"
     ]
    }
   ],
   "source": [
    "# A small precaution for plotting\n",
    "min_dim2 = min(kpca_rbf_data.shape[1],10)\n",
    "dim = list(range(1,min_dim2+1))\n",
    "\n",
    "c = 0\n",
    "for d in dim:\n",
    "  print (\"Explained Variance for PCA dimension \"+str(d)+\" is  : \"+str(exp_var_rbf_percentage[c])+\" %\")\n",
    "  c+=1\n",
    "\n",
    "overall_plot.append(exp_var_rbf_percentage[0:min_dim2])"
   ]
  },
  {
   "cell_type": "markdown",
   "metadata": {
    "id": "rH9ggjx1B0D4"
   },
   "source": [
    "Plot"
   ]
  },
  {
   "cell_type": "code",
   "execution_count": 72,
   "metadata": {
    "colab": {
     "base_uri": "https://localhost:8080/",
     "height": 279
    },
    "id": "iWvE5qQ6B0D5",
    "outputId": "18813022-dfb9-4a82-da8d-a06da25a1b80"
   },
   "outputs": [
    {
     "data": {
      "image/png": "[encoded data removed]",
      "text/plain": [
       "<Figure size 432x288 with 1 Axes>"
      ]
     },
     "metadata": {
      "needs_background": "light"
     },
     "output_type": "display_data"
    }
   ],
   "source": [
    "plt.plot(dim,exp_var_rbf_percentage[0:min_dim2],marker = 'o',markerfacecolor = 'red')\n",
    "plt.xlabel('Dimension Number')\n",
    "plt.ylabel('Explained Variance')\n",
    "plt.show()"
   ]
  },
  {
   "cell_type": "markdown",
   "metadata": {
    "id": "zrTHqN0JBuBd"
   },
   "source": [
    "# RBF Kernel  (gamma = 0.1)"
   ]
  },
  {
   "cell_type": "code",
   "execution_count": 73,
   "metadata": {
    "colab": {
     "base_uri": "https://localhost:8080/"
    },
    "id": "EyTJt6UVBuBe",
    "outputId": "2bd91325-c32e-4af9-b68d-0aa868eb7d2b"
   },
   "outputs": [
    {
     "name": "stdout",
     "output_type": "stream",
     "text": [
      "(190, 189)\n"
     ]
    }
   ],
   "source": [
    "# Setting up th KPCA function\n",
    "kpca_rbf = KernelPCA(kernel='rbf',gamma=0.1)\n",
    "\n",
    "# Transforming\n",
    "kpca_rbf_data = kpca_rbf.fit_transform(scaled_data)\n",
    "print (kpca_rbf_data.shape)\n",
    "\n",
    "# Storing the explained variances\n",
    "exp_var_rbf = np.var(kpca_rbf_data, axis=0)\n",
    "\n",
    "# Converting them to percentages\n",
    "exp_var_rbf_percentage = (exp_var_rbf * 100 )/ np.sum(exp_var_rbf)"
   ]
  },
  {
   "cell_type": "markdown",
   "metadata": {
    "id": "sfA0Jy7dBuBe"
   },
   "source": [
    "Results"
   ]
  },
  {
   "cell_type": "code",
   "execution_count": 74,
   "metadata": {
    "colab": {
     "base_uri": "https://localhost:8080/"
    },
    "id": "Jv8pS5NlBuBf",
    "outputId": "4966cd7b-e0a0-42b5-b391-a302380a7bbc"
   },
   "outputs": [
    {
     "name": "stdout",
     "output_type": "stream",
     "text": [
      "Explained Variance for PCA dimension 1 is  : 25.86173732135202 %\n",
      "Explained Variance for PCA dimension 2 is  : 18.20006011865106 %\n",
      "Explained Variance for PCA dimension 3 is  : 15.182606943005153 %\n",
      "Explained Variance for PCA dimension 4 is  : 6.6221870264149105 %\n",
      "Explained Variance for PCA dimension 5 is  : 6.135238768245638 %\n",
      "Explained Variance for PCA dimension 6 is  : 5.040395679298114 %\n",
      "Explained Variance for PCA dimension 7 is  : 4.050841549455405 %\n",
      "Explained Variance for PCA dimension 8 is  : 2.5953851227490565 %\n",
      "Explained Variance for PCA dimension 9 is  : 1.9180644658304769 %\n",
      "Explained Variance for PCA dimension 10 is  : 1.8702513879286036 %\n"
     ]
    }
   ],
   "source": [
    "# A small precaution for plotting\n",
    "min_dim2 = min(kpca_rbf_data.shape[1],10)\n",
    "dim = list(range(1,min_dim2+1))\n",
    "\n",
    "c = 0\n",
    "for d in dim:\n",
    "  print (\"Explained Variance for PCA dimension \"+str(d)+\" is  : \"+str(exp_var_rbf_percentage[c])+\" %\")\n",
    "  c+=1\n",
    "\n",
    "overall_plot.append(exp_var_rbf_percentage[0:min_dim2])  "
   ]
  },
  {
   "cell_type": "markdown",
   "metadata": {
    "id": "QbGNoethBuBf"
   },
   "source": [
    "Plot:"
   ]
  },
  {
   "cell_type": "code",
   "execution_count": 75,
   "metadata": {
    "colab": {
     "base_uri": "https://localhost:8080/",
     "height": 279
    },
    "id": "l126s4AeBuBf",
    "outputId": "de4d5eb9-01f1-44fc-a7cb-b69ac112cfc1"
   },
   "outputs": [
    {
     "data": {
      "image/png": "[encoded data removed]",
      "text/plain": [
       "<Figure size 432x288 with 1 Axes>"
      ]
     },
     "metadata": {
      "needs_background": "light"
     },
     "output_type": "display_data"
    }
   ],
   "source": [
    "plt.plot(dim,exp_var_rbf_percentage[0:min_dim2],marker = 'o',markerfacecolor = 'red')\n",
    "plt.xlabel('Dimension Number')\n",
    "plt.ylabel('Explained Variance')\n",
    "plt.show()"
   ]
  },
  {
   "cell_type": "markdown",
   "metadata": {
    "id": "swxswsyII9sF"
   },
   "source": [
    "# Conclusion : The explained variance is more in first few dimensions for smaller values of gamma, as we increase its value more dimensions come into prominence.\n"
   ]
  },
  {
   "cell_type": "markdown",
   "metadata": {
    "id": "i2cNg979K4PE"
   },
   "source": [
    "Comparison plot"
   ]
  },
  {
   "cell_type": "code",
   "execution_count": 76,
   "metadata": {
    "colab": {
     "base_uri": "https://localhost:8080/",
     "height": 279
    },
    "id": "awLzJZSQK3Xs",
    "outputId": "173e0ef4-d82a-4748-808e-edc71e11a448"
   },
   "outputs": [
    {
     "data": {
      "image/png": "[encoded data removed]",
      "text/plain": [
       "<Figure size 432x288 with 1 Axes>"
      ]
     },
     "metadata": {
      "needs_background": "light"
     },
     "output_type": "display_data"
    }
   ],
   "source": [
    "plt.plot(dim,overall_plot[0],marker = 'o',markerfacecolor = 'red', label = 'gamma 0.001')\n",
    "plt.plot(dim,overall_plot[1],marker = 'o',markerfacecolor = 'blue', label = 'gamma 0.01')\n",
    "plt.plot(dim,overall_plot[2],marker = 'o',markerfacecolor = 'black', label = 'gamma 0.1')\n",
    "plt.xlabel('Dimension Number')\n",
    "plt.ylabel('Explained Variance')\n",
    "plt.legend(loc=\"upper right\")\n",
    "plt.show()"
   ]
  }
 ],
 "metadata": {
  "colab": {
   "collapsed_sections": [],
   "name": "213230011_4.ipynb",
   "provenance": []
  },
  "kernelspec": {
   "display_name": "Python 3",
   "name": "python3"
  },
  "language_info": {
   "name": "python"
  }
 },
 "nbformat": 4,
 "nbformat_minor": 0
}
