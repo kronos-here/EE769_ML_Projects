{
  "nbformat": 4,
  "nbformat_minor": 0,
  "metadata": {
    "colab": {
      "name": "213230011_3.ipynb",
      "provenance": [],
      "collapsed_sections": []
    },
    "kernelspec": {
      "name": "python3",
      "display_name": "Python 3"
    },
    "language_info": {
      "name": "python"
    }
  },
  "cells": [
    {
      "cell_type": "markdown",
      "source": [
        "# Logistics\n",
        "Assignment 3 - Part 3\n",
        "\n",
        "Name: Sayan Ray\n",
        "\n",
        "Roll: 213230011"
      ],
      "metadata": {
        "id": "SEjYNHtGRgtZ"
      }
    },
    {
      "cell_type": "markdown",
      "source": [
        "# Pinciple Component Analysis.\n",
        "\n",
        "\n",
        "---\n",
        "\n"
      ],
      "metadata": {
        "id": "w54svrGbRkGj"
      }
    },
    {
      "cell_type": "markdown",
      "source": [
        "# Importing The required packages."
      ],
      "metadata": {
        "id": "F9GhwnaBRoGQ"
      }
    },
    {
      "cell_type": "code",
      "execution_count": 1,
      "metadata": {
        "id": "tqocyZFhRej-"
      },
      "outputs": [],
      "source": [
        "# These are standarad imports\n",
        "import numpy as np\n",
        "import pandas as pd\n",
        "\n",
        "# For plotting and visualization\n",
        "from matplotlib import pyplot as plt\n",
        "import seaborn as sns\n",
        "\n",
        "# This is simply for scaling with mean 0 and s.d. ±1\n",
        "from sklearn.preprocessing import StandardScaler\n",
        "\n",
        "# This is for finding the PCA and results\n",
        "from sklearn.decomposition import PCA\n"
      ]
    },
    {
      "cell_type": "markdown",
      "source": [
        "# Loading the dataset in a dataframe named 'PCA_train_df'."
      ],
      "metadata": {
        "id": "ldSkBL0PAU2u"
      }
    },
    {
      "cell_type": "code",
      "source": [
        "PCA_train_df = pd.read_csv('https://www.ee.iitb.ac.in/~asethi/Dump/DataPCA.csv')"
      ],
      "metadata": {
        "id": "sjJJf8pNR57g"
      },
      "execution_count": 2,
      "outputs": []
    },
    {
      "cell_type": "markdown",
      "source": [
        "Displaying the dataset, with rows and columns info."
      ],
      "metadata": {
        "id": "Sz25NQ_hD1xs"
      }
    },
    {
      "cell_type": "code",
      "source": [
        "print (PCA_train_df.shape)\n",
        "print (PCA_train_df)"
      ],
      "metadata": {
        "colab": {
          "base_uri": "https://localhost:8080/"
        },
        "id": "m1YRNB8DD6CM",
        "outputId": "aefd73ba-021e-46ea-b2e4-03511b0d34b6"
      },
      "execution_count": 3,
      "outputs": [
        {
          "output_type": "stream",
          "name": "stdout",
          "text": [
            "(190, 7)\n",
            "           x1        x2        x3        x4        x5        x6        x7\n",
            "0    0.840261 -1.088160  4.861744  4.273055  4.312457 -0.137834  0.076453\n",
            "1    1.320591 -1.174113  5.247360  3.295027  4.283410 -0.363759 -0.170605\n",
            "2    1.537909 -1.175882  5.556251  3.394183  3.971574 -0.888398  0.080617\n",
            "3    0.363552 -1.130608  4.329890  5.547488  4.539732  0.342330  0.251953\n",
            "4    1.567938 -1.114719  5.542104  2.493071  4.156157 -0.609694 -0.291367\n",
            "..        ...       ...       ...       ...       ...       ...       ...\n",
            "185  0.894296 -1.270097  4.618647  4.005702  4.634847  0.156118 -0.215169\n",
            "186  0.926559 -1.203508  4.766199  3.907673  4.538084  0.073321 -0.197924\n",
            "187  1.678706 -1.227245  5.613809  2.864530  4.046335 -0.906304 -0.099063\n",
            "188  1.693254 -1.323340  5.470576  3.023584  4.208331 -0.693895 -0.189082\n",
            "189  1.806170 -1.347104  5.541666  2.818543  4.240505 -0.690840 -0.222595\n",
            "\n",
            "[190 rows x 7 columns]\n"
          ]
        }
      ]
    },
    {
      "cell_type": "markdown",
      "source": [
        "Conclusion: There are 190 rows of data with 7 features. With no target variable. "
      ],
      "metadata": {
        "id": "vC73TfWKD7u2"
      }
    },
    {
      "cell_type": "markdown",
      "source": [
        "# Exploaratory Data Analysis.\n",
        "\n",
        "\n",
        "---\n",
        "\n"
      ],
      "metadata": {
        "id": "-20L4crQtQcS"
      }
    },
    {
      "cell_type": "markdown",
      "source": [
        "# Feature datatype check and check for missing values.  "
      ],
      "metadata": {
        "id": "lsDZcwBO_Yfm"
      }
    },
    {
      "cell_type": "code",
      "source": [
        "# This part is inspired from Amit Sir's Lecuture on ML for Smart Monkeys\n",
        "# I am checking for the unique values and features with missing entities\n",
        "\n",
        "# c is just the counter of the features.\n",
        "c = 1\n",
        "\n",
        "for col in PCA_train_df.columns.values:\n",
        "  list_vals = pd.unique(PCA_train_df[col])\n",
        "  \n",
        "  # So isnull() scans the missing values and then we sum it up.\n",
        "  print(str(c) +\". \"+col + \" is of type \" + str(PCA_train_df[col].dtypes) + \" has \" + str(len(list_vals)) + \" unique values, and \" + str(PCA_train_df[col].isnull().sum(axis=0)) + \" null entries\")\n",
        "  c = c + 1\n",
        "  if len(list_vals) < 10:\n",
        "    list_str=\"\"\n",
        "    for n_value in range (0,len(list_vals)):\n",
        "      list_str = list_str + str(list_vals[n_value]) + ','\n",
        "    print(\"These are: \" + list_str[0:-1])"
      ],
      "metadata": {
        "colab": {
          "base_uri": "https://localhost:8080/"
        },
        "id": "6yNOxUBIMVKM",
        "outputId": "1ccf63a0-4135-4105-cd20-0ddde34fabbc"
      },
      "execution_count": 4,
      "outputs": [
        {
          "output_type": "stream",
          "name": "stdout",
          "text": [
            "1. x1 is of type float64 has 190 unique values, and 0 null entries\n",
            "2. x2 is of type float64 has 190 unique values, and 0 null entries\n",
            "3. x3 is of type float64 has 190 unique values, and 0 null entries\n",
            "4. x4 is of type float64 has 190 unique values, and 0 null entries\n",
            "5. x5 is of type float64 has 190 unique values, and 0 null entries\n",
            "6. x6 is of type float64 has 190 unique values, and 0 null entries\n",
            "7. x7 is of type float64 has 190 unique values, and 0 null entries\n"
          ]
        }
      ]
    },
    {
      "cell_type": "markdown",
      "source": [
        "# **Conclusion**: There are no null entries thus there is no need for removal or imputation of the dataset."
      ],
      "metadata": {
        "id": "5fwHn4l4_gm_"
      }
    },
    {
      "cell_type": "markdown",
      "source": [
        "# Histograms of the features."
      ],
      "metadata": {
        "id": "A3jR1oiN_TlO"
      }
    },
    {
      "cell_type": "code",
      "source": [
        "#To visualize the variables since all are continous we are creating histograms to understand their distribution\n",
        "# So now taking all the features and checking their histograms\n",
        "\n",
        "for feature in PCA_train_df.columns.values:\n",
        "    # I chose bin size 50 since it helped me visialize the shape easier.\n",
        "    PCA_train_df[feature].hist(bins=50)\n",
        "\n",
        "    plt.xlabel(feature)\n",
        "    plt.ylabel(\"Frequency\")\n",
        "    \n",
        "    plt.title(feature + \"Histogram\")\n",
        "    plt.show()\n",
        "    print()"
      ],
      "metadata": {
        "colab": {
          "base_uri": "https://localhost:8080/",
          "height": 1000
        },
        "id": "_WZg7g6yNWM0",
        "outputId": "cc3311ac-77c4-4d7b-dcf0-5935217db7e7"
      },
      "execution_count": 5,
      "outputs": [
        {
          "output_type": "display_data",
          "data": {
            "text/plain": [
              "<Figure size 432x288 with 1 Axes>"
            ],
            "image/png": "[encoded data removed]"
          },
          "metadata": {
            "needs_background": "light"
          }
        },
        {
          "output_type": "stream",
          "name": "stdout",
          "text": [
            "\n"
          ]
        },
        {
          "output_type": "display_data",
          "data": {
            "text/plain": [
              "<Figure size 432x288 with 1 Axes>"
            ],
            "image/png": "[encoded data removed]"
          },
          "metadata": {
            "needs_background": "light"
          }
        },
        {
          "output_type": "stream",
          "name": "stdout",
          "text": [
            "\n"
          ]
        },
        {
          "output_type": "display_data",
          "data": {
            "text/plain": [
              "<Figure size 432x288 with 1 Axes>"
            ],
            "image/png": "[encoded data removed]"
          },
          "metadata": {
            "needs_background": "light"
          }
        },
        {
          "output_type": "stream",
          "name": "stdout",
          "text": [
            "\n"
          ]
        },
        {
          "output_type": "display_data",
          "data": {
            "text/plain": [
              "<Figure size 432x288 with 1 Axes>"
            ],
            "image/png": "[encoded data removed]"
          },
          "metadata": {
            "needs_background": "light"
          }
        },
        {
          "output_type": "stream",
          "name": "stdout",
          "text": [
            "\n"
          ]
        },
        {
          "output_type": "display_data",
          "data": {
            "text/plain": [
              "<Figure size 432x288 with 1 Axes>"
            ],
            "image/png": "[encoded data removed]"
          },
          "metadata": {
            "needs_background": "light"
          }
        },
        {
          "output_type": "stream",
          "name": "stdout",
          "text": [
            "\n"
          ]
        },
        {
          "output_type": "display_data",
          "data": {
            "text/plain": [
              "<Figure size 432x288 with 1 Axes>"
            ],
            "image/png": "[encoded data removed]"
          },
          "metadata": {
            "needs_background": "light"
          }
        },
        {
          "output_type": "stream",
          "name": "stdout",
          "text": [
            "\n"
          ]
        },
        {
          "output_type": "display_data",
          "data": {
            "text/plain": [
              "<Figure size 432x288 with 1 Axes>"
            ],
            "image/png": "[encoded data removed]"
          },
          "metadata": {
            "needs_background": "light"
          }
        },
        {
          "output_type": "stream",
          "name": "stdout",
          "text": [
            "\n"
          ]
        }
      ]
    },
    {
      "cell_type": "markdown",
      "source": [
        "# **Conclusion**: All the plots seem to be approximately Gaussian.\n",
        "\n",
        "But, their ranges vary and thus we need to Normalize to zero mean and unit s.d. before using the PCA function."
      ],
      "metadata": {
        "id": "KaWlFip0StvI"
      }
    },
    {
      "cell_type": "markdown",
      "source": [
        "# Pearson Correlation Heatmap."
      ],
      "metadata": {
        "id": "Ba7ETNme_NWG"
      }
    },
    {
      "cell_type": "code",
      "source": [
        "# So I'll be using the most commonly used correlation methon, Pearson's Correlation \n",
        "corr_pearson = PCA_train_df.corr(method= 'pearson')\n",
        "\n",
        "#Now making a heatmap out of it.\n",
        "fig, ax = plt.subplots(figsize=(7,7))\n",
        "sns.heatmap(abs(corr_pearson), annot = True)\n",
        "plt.show()"
      ],
      "metadata": {
        "colab": {
          "base_uri": "https://localhost:8080/",
          "height": 432
        },
        "id": "s8ONJodjSvQU",
        "outputId": "ab5d82d3-2647-43d3-d9d8-3a6c9f39f0a5"
      },
      "execution_count": 6,
      "outputs": [
        {
          "output_type": "display_data",
          "data": {
            "text/plain": [
              "<Figure size 504x504 with 2 Axes>"
            ],
            "image/png": "[encoded data removed]"
          },
          "metadata": {
            "needs_background": "light"
          }
        }
      ]
    },
    {
      "cell_type": "markdown",
      "source": [
        "# **Conclusion**: From this Pearson correlation heatmap, we can see there does exist quite an amount of correlation amongst the features.\n",
        " Evidently:\n",
        "\n",
        "1. x1 has high correlation with x3, x4 and x6.\n",
        "2. x2 has high correlation with x5.\n",
        "3. x3 has high correlation with x4, x5 and x6.\n",
        "4. x4 has high correlation with x6.\n",
        "5. x5 has high correlation with x6.\n",
        "\n"
      ],
      "metadata": {
        "id": "KazOYAg59aLP"
      }
    },
    {
      "cell_type": "markdown",
      "source": [
        "# Now we need not know the nature of correlation, it will be removed during PCA ."
      ],
      "metadata": {
        "id": "uTrkhaer9zQw"
      }
    },
    {
      "cell_type": "markdown",
      "source": [
        "# Training PCA on the dataset.\n",
        "\n",
        "\n",
        "---\n",
        "\n"
      ],
      "metadata": {
        "id": "9qg2xqMbB4Rx"
      }
    },
    {
      "cell_type": "markdown",
      "source": [
        "# Normalizing the data using standard scaler."
      ],
      "metadata": {
        "id": "N1PflPQe_Gwx"
      }
    },
    {
      "cell_type": "code",
      "source": [
        "# Normalizing the dataset to a mean 0 and s.d. ±1\n",
        "scaler = StandardScaler()\n",
        "scaled_data = scaler.fit_transform(PCA_train_df)"
      ],
      "metadata": {
        "id": "1Q5_hifzabkj"
      },
      "execution_count": 7,
      "outputs": []
    },
    {
      "cell_type": "markdown",
      "source": [
        "# Training PCA"
      ],
      "metadata": {
        "id": "E5yKMmTTF55c"
      }
    },
    {
      "cell_type": "code",
      "source": [
        "# I am aiming to capture 95% variation\n",
        "pca = PCA(0.95)\n",
        "pca_data = pca.fit_transform(scaled_data)"
      ],
      "metadata": {
        "id": "qBgcK9N-F8gN"
      },
      "execution_count": 8,
      "outputs": []
    },
    {
      "cell_type": "code",
      "source": [
        "print (pca_data.shape)"
      ],
      "metadata": {
        "colab": {
          "base_uri": "https://localhost:8080/"
        },
        "id": "DN8IpoVHGMfE",
        "outputId": "37c72135-50b1-47ad-9939-0225426318b7"
      },
      "execution_count": 9,
      "outputs": [
        {
          "output_type": "stream",
          "name": "stdout",
          "text": [
            "(190, 3)\n"
          ]
        }
      ]
    },
    {
      "cell_type": "markdown",
      "source": [
        "# Results.\n",
        "\n",
        "\n",
        "---\n",
        "\n"
      ],
      "metadata": {
        "id": "FyEsUn41G_L0"
      }
    },
    {
      "cell_type": "markdown",
      "source": [
        "#Explained variance vs numbers of PCA dimensions."
      ],
      "metadata": {
        "id": "btaVoUPbHEgL"
      }
    },
    {
      "cell_type": "code",
      "source": [
        "dim = list(range(1,pca_data.shape[1]+1))\n",
        "\n",
        "c = 0\n",
        "for d in dim:\n",
        "  print (\"Explained Variance for PCA dimension \"+str(d)+\" is  :\"+str(pca.explained_variance_[c]))\n",
        "  c+=1"
      ],
      "metadata": {
        "colab": {
          "base_uri": "https://localhost:8080/"
        },
        "id": "pCZRPsG_HCPb",
        "outputId": "b19956a6-8be9-42ac-ea88-24c309db139f"
      },
      "execution_count": 10,
      "outputs": [
        {
          "output_type": "stream",
          "name": "stdout",
          "text": [
            "Explained Variance for PCA dimension 1 is  :4.287459546750246\n",
            "Explained Variance for PCA dimension 2 is  :2.248058658613713\n",
            "Explained Variance for PCA dimension 3 is  :0.45709919270145516\n"
          ]
        }
      ]
    },
    {
      "cell_type": "markdown",
      "source": [
        "Plotting Them "
      ],
      "metadata": {
        "id": "bmMsD4vXHTLE"
      }
    },
    {
      "cell_type": "code",
      "source": [
        "plt.plot(dim,pca.explained_variance_,marker = 'o',markerfacecolor = 'red')\n",
        "plt.xlabel('Dimension Number')\n",
        "plt.ylabel('Explained Variance')\n",
        "plt.show()"
      ],
      "metadata": {
        "colab": {
          "base_uri": "https://localhost:8080/",
          "height": 279
        },
        "id": "4Q41UiJ9KrsT",
        "outputId": "97acf090-020d-4b3f-ec2e-72e6235cef95"
      },
      "execution_count": 11,
      "outputs": [
        {
          "output_type": "display_data",
          "data": {
            "text/plain": [
              "<Figure size 432x288 with 1 Axes>"
            ],
            "image/png": "[encoded data removed]"
          },
          "metadata": {
            "needs_background": "light"
          }
        }
      ]
    },
    {
      "cell_type": "markdown",
      "source": [
        "# Reconstruction and MSE"
      ],
      "metadata": {
        "id": "P63zXwkMHWfs"
      }
    },
    {
      "cell_type": "code",
      "source": [
        "# This is for reconstruction to the normalized set\n",
        "recontructed_scaled = pca.inverse_transform(pca_data)\n",
        "\n",
        "# This is to the scale and mean of that of the original dataset\n",
        "reconstructed = scaler.inverse_transform(recontructed_scaled)\n",
        "\n",
        "# This is the array that contains the eroors of net reconstruction\n",
        "MSE_list = np.mean(np.square(np.subtract(reconstructed,PCA_train_df.to_numpy())),axis=0)\n",
        "\n",
        "# c is just for display formatting\n",
        "c = 0\n",
        "for col in PCA_train_df.columns.values:\n",
        "  print (\"MSE for feature \"+col+\" is : \"+str(MSE_list[c]))\n",
        "  c+=1"
      ],
      "metadata": {
        "colab": {
          "base_uri": "https://localhost:8080/"
        },
        "id": "tlR5YnrDt7oK",
        "outputId": "f0b6fe20-a301-4bfe-ea07-e9c500010e02"
      },
      "execution_count": 12,
      "outputs": [
        {
          "output_type": "stream",
          "name": "stdout",
          "text": [
            "MSE for feature x1 is : 0.003437822130591167\n",
            "MSE for feature x2 is : 4.511698747897091e-06\n",
            "MSE for feature x3 is : 0.0026790935070860594\n",
            "MSE for feature x4 is : 0.007157068782844121\n",
            "MSE for feature x5 is : 5.9860660458753435e-05\n",
            "MSE for feature x6 is : 0.0028900083629569908\n",
            "MSE for feature x7 is : 8.585002482994675e-05\n"
          ]
        }
      ]
    },
    {
      "cell_type": "markdown",
      "source": [
        "# Conclusion:\n",
        "\n",
        "The errors are practically zero or negligible."
      ],
      "metadata": {
        "id": "fM6KFZogw4Tp"
      }
    }
  ]
}