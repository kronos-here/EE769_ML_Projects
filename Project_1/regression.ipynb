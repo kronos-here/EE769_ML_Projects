{
  "cells": [
    {
      "cell_type": "markdown",
      "metadata": {
        "deletable": false,
        "editable": false,
        "nbgrader": {
          "cell_type": "markdown",
          "checksum": "2a747369b91572b4ada4e32643e31bca",
          "grade": false,
          "grade_id": "Title",
          "locked": true,
          "schema_version": 3,
          "solution": false,
          "task": false
        },
        "id": "Q1l_Lgo6P0gp"
      },
      "source": [
        "#**EE769 Introduction to Machine Learning**\n",
        "\n",
        "#Assignment 1: Gradient Descent, Linear Regression, and Regularization\n",
        "\n",
        "\n",
        "**Template and Instructions**\n",
        "\n",
        "\n",
        "\n",
        "1. Up to two people can team up, but only one should submit, and both should understand the entire code.\n",
        "2. Every line of code should end in a comment explaining the line\n",
        "3. It is recommended to solve the assignment in Google Colab.\n",
        "Write your roll no.s separated by commas here: 213230011, 213350005\n",
        "4. Write your names here: Sayan Ray, Ashish Patel\n",
        "5. There are two parts to the assignment. In the Part 1, the code format has to be strictly followed to enable auto-grading. In the second part, you can be creative.\n",
        "6. **You can discuss with other groups or refer to the internet without being penalized, but you cannot copy their code and modify it. Write every line of code and comment on your own.**"
      ]
    },
    {
      "cell_type": "markdown",
      "metadata": {
        "deletable": false,
        "editable": false,
        "nbgrader": {
          "cell_type": "markdown",
          "checksum": "cae69541658b406d495bcffe0b7c0932",
          "grade": false,
          "grade_id": "cell-aa1aa8c8181f8810",
          "locked": true,
          "schema_version": 3,
          "solution": false,
          "task": false
        },
        "id": "l7h8HK7wP0gs"
      },
      "source": [
        "#**Part 1 begins ...**\n",
        "**Instructions to be strictly followed:**\n",
        "\n",
        "1. Do not add any code cells or markdown cells until the end of this part. Especially, do not change the blocks that say \"TEST CASES, DO NOT CHANGE\"\n",
        "2. In all other cells only add code where it says \"CODE HERE\".\n",
        "3. If you encounter any raise NotImplementedError() calls you may comment them out.\n",
        "\n",
        "We cannot ensure correct grading if you change anything else, and you may be penalised for not following these instructions."
      ]
    },
    {
      "cell_type": "markdown",
      "metadata": {
        "deletable": false,
        "editable": false,
        "nbgrader": {
          "cell_type": "markdown",
          "checksum": "0ecbf8e96219ab11b7716eaae61cb7f9",
          "grade": false,
          "grade_id": "cell-1e940101f37c7af2",
          "locked": true,
          "schema_version": 3,
          "solution": false,
          "task": false
        },
        "id": "blsZJkt_P0gs"
      },
      "source": [
        "## Import Statements"
      ]
    },
    {
      "cell_type": "code",
      "execution_count": null,
      "metadata": {
        "deletable": false,
        "editable": false,
        "nbgrader": {
          "cell_type": "code",
          "checksum": "fe70877a859ee0a10e9d591778022f8a",
          "grade": false,
          "grade_id": "Import_Statements",
          "locked": true,
          "schema_version": 3,
          "solution": false,
          "task": false
        },
        "id": "MHpuNvqDP0gt"
      },
      "outputs": [],
      "source": [
        "import numpy as np\n",
        "import pandas as pd\n",
        "from matplotlib import pyplot as plt\n",
        "\n",
        "#Importing the packages of numpy, pandas and matplotlib"
      ]
    },
    {
      "cell_type": "markdown",
      "metadata": {
        "deletable": false,
        "editable": false,
        "nbgrader": {
          "cell_type": "markdown",
          "checksum": "e36a214573fc40f26b45e72215d61375",
          "grade": false,
          "grade_id": "Normalize_Title",
          "locked": true,
          "schema_version": 3,
          "solution": false,
          "task": false
        },
        "id": "bE1CT6d_P0gu"
      },
      "source": [
        "## Normalize function\n",
        "\n"
      ]
    },
    {
      "cell_type": "markdown",
      "source": [
        "We normalize by subtracting the mean from the data and dividing that with the standard deviation.\n",
        "Now the coloumn of the data matrix X are all same kind of data recorded in different times or situations, so finding the mean and normalizing has tot be done coloumnwise.\n"
      ],
      "metadata": {
        "id": "DabYWu3XnYY6"
      }
    },
    {
      "cell_type": "code",
      "execution_count": null,
      "metadata": {
        "deletable": false,
        "nbgrader": {
          "cell_type": "code",
          "checksum": "42293dda356d746ac19e9b6d81106261",
          "grade": false,
          "grade_id": "Normalize_Function",
          "locked": false,
          "schema_version": 3,
          "solution": true,
          "task": false
        },
        "id": "34kMYUfQP0gu"
      },
      "outputs": [],
      "source": [
        "def Normalize(X): # Output should be a normalized data matrix of the same dimension\n",
        "    '''\n",
        "    Normalize all columns of X using mean and standard deviation\n",
        "    '''\n",
        "    # By using the mean() of numpy package and setting the axis to 0 we can calculate the coloumnwise mean.\n",
        "    # By using the std() of numpy package and setting the axis to 0 we are calculating the coloumnwise standard deviation.\n",
        "    # Now subtracting mean from the actual matrix X and dividing it with the standard deviation we are obtaining the normalized\n",
        "\n",
        "    norX = (X - np.mean(X,axis=0)) / (np.std(X,axis=0))\n",
        "    return norX\n",
        "\n",
        "    #raise NotImplementedError()"
      ]
    },
    {
      "cell_type": "code",
      "execution_count": null,
      "metadata": {
        "deletable": false,
        "editable": false,
        "nbgrader": {
          "cell_type": "code",
          "checksum": "7797dd606a68f028c945acd08850d108",
          "grade": true,
          "grade_id": "Normalize_Test",
          "locked": true,
          "points": 5,
          "schema_version": 3,
          "solution": false,
          "task": false
        },
        "id": "XiuRSqphP0gu"
      },
      "outputs": [],
      "source": [
        "'''\n",
        "TEST CASES, DO NOT CHANGE\n",
        "'''\n",
        "''' case 1 - 1 dimensional array'''\n",
        "#X=np.array([[1,2,3],[3,4,5],[7,8,9]])\n",
        "X1=np.array([1,2,3])\n",
        "np.testing.assert_array_almost_equal(Normalize(X1),np.array([-1.224,  0.      ,  1.224]),decimal=3)\n",
        "''' case 2 - 2 dimensional array'''\n",
        "X2=np.array([[4,7,6],[3,8,9],[5,11,10]])\n",
        "np.testing.assert_array_almost_equal(Normalize(X2),np.array([[ 0.  , -0.980581, -1.372813],[-1.224745, -0.392232,  0.392232],[ 1.224745,  1.372813,  0.980581]]))\n",
        "''' case 3 - 1 dimensional array with float'''\n",
        "X3=np.array([5.5,6.7,3.2,6.7])\n",
        "np.testing.assert_array_almost_equal(Normalize(X3),np.array([-0.017,  0.822, -1.627,  0.822]),decimal=3)"
      ]
    },
    {
      "cell_type": "markdown",
      "metadata": {
        "deletable": false,
        "editable": false,
        "nbgrader": {
          "cell_type": "markdown",
          "checksum": "63ee774a26a0438a0b2f5ec298eac80e",
          "grade": false,
          "grade_id": "cell-66ab98f84d3c58fa",
          "locked": true,
          "schema_version": 3,
          "solution": false,
          "task": false
        },
        "id": "Sxaf4UzwP0gv"
      },
      "source": [
        "## Prediction Function\n",
        "\n",
        "Given X and w, compute the predicted output. Do not forget to add 1's in X"
      ]
    },
    {
      "cell_type": "code",
      "execution_count": null,
      "metadata": {
        "deletable": false,
        "nbgrader": {
          "cell_type": "code",
          "checksum": "5976e32bd96bc4bdc2b2efd61e98441c",
          "grade": false,
          "grade_id": "Prediction",
          "locked": false,
          "schema_version": 3,
          "solution": true,
          "task": false
        },
        "id": "HuAWwUfsP0gv"
      },
      "outputs": [],
      "source": [
        "def Prediction (X, w): # Output should be a prediction vector y\n",
        "    '''\n",
        "    Compute Prediction given an input datamatrix X and weight vecor w. Output y = [X 1]w where 1 is a vector of all 1s\n",
        "    '''\n",
        "    # Generating the extra coloumns of 1's to take care of the bias terms in weight array and attaching it at te end of X (data) matrix.\n",
        "    p = np.ones(len(X))\n",
        "    X = np.c_[X,p]\n",
        "\n",
        "    # And thus by multiplying the data and weights we get our prediction.\n",
        "    y = np.dot(X,w)\n",
        "    return y\n",
        "\n",
        "    #raise NotImplementedError()"
      ]
    },
    {
      "cell_type": "code",
      "execution_count": null,
      "metadata": {
        "deletable": false,
        "editable": false,
        "nbgrader": {
          "cell_type": "code",
          "checksum": "741f088432fb2ac3c49d3c9711d5c9c5",
          "grade": true,
          "grade_id": "PredictionTest",
          "locked": true,
          "points": 5,
          "schema_version": 3,
          "solution": false,
          "task": false
        },
        "id": "i2d8tBl9P0gw"
      },
      "outputs": [],
      "source": [
        "'''\n",
        "TEST CASES, DO NOT CHANGE\n",
        "'''\n",
        "''' case 1 - Known input output matrix and weights 1'''\n",
        "X1 = np.array([[3,2],[1,1]])\n",
        "w1 = np.array([2,1,1])\n",
        "np.testing.assert_array_equal(Prediction(X1,w1),np.array([9,4]))\n"
      ]
    },
    {
      "cell_type": "markdown",
      "metadata": {
        "deletable": false,
        "editable": false,
        "nbgrader": {
          "cell_type": "markdown",
          "checksum": "227f6e0da2f8c6d631599c44041e3b65",
          "grade": false,
          "grade_id": "cell-6fda2832d5967072",
          "locked": true,
          "schema_version": 3,
          "solution": false,
          "task": false
        },
        "id": "4H6nliXuP0gx"
      },
      "source": [
        "## Loss Functions\n",
        "\n",
        "Code the four  loss functions:\n",
        "\n",
        "1. MSE loss is only for the error\n",
        "2. MAE loss is only for the error\n",
        "3. L2 loss is for MSE and L2 regularization, and can call MSE loss\n",
        "4. L1 loss is for MSE and L1 regularization, and can call MSE loss"
      ]
    },
    {
      "cell_type": "markdown",
      "source": [
        "MSE loss or Mean Square Error Loss, as the name suggests its the Mean of the sum of square of individual errors. That is:\n",
        "\n",
        "(1/n)*Σ(t-y)^2  \n",
        "\n",
        "(n being the total number of y or t terms)"
      ],
      "metadata": {
        "id": "O8gtI3Cjo9it"
      }
    },
    {
      "cell_type": "code",
      "execution_count": null,
      "metadata": {
        "deletable": false,
        "nbgrader": {
          "cell_type": "code",
          "checksum": "2c3e17b8559f0dfdfecdc8d242aba152",
          "grade": false,
          "grade_id": "MSE_Loss",
          "locked": false,
          "schema_version": 3,
          "solution": true,
          "task": false
        },
        "id": "ME3v_nUcP0gx"
      },
      "outputs": [],
      "source": [
        "def MSE_Loss (X, t, w, lamda =0): # Ouput should be a single number\n",
        "    '''\n",
        "    lamda=0 is a default argument to prevent errors if you pass lamda to a function that doesn't need it by mistake.\n",
        "    This allows us to call all loss functions with the same input format.\n",
        "\n",
        "    You are encouraged read about default arguments by yourself online if you're not familiar.\n",
        "    '''\n",
        "    # Firstly we need to generate the output that is predicted with the given Data and weights.\n",
        "    y = Prediction (X, w)\n",
        "\n",
        "    # Now simply we find the difference (t - y) and square it using the square() and their mean using mean()\n",
        "    MseLoss = np.mean(np.square(np.subtract(t,y)))\n",
        "    return MseLoss\n",
        "\n",
        "    #raise NotImplementedError()"
      ]
    },
    {
      "cell_type": "code",
      "execution_count": null,
      "metadata": {
        "deletable": false,
        "editable": false,
        "nbgrader": {
          "cell_type": "code",
          "checksum": "923a1372a401b41d6ef6b0749a49ff66",
          "grade": true,
          "grade_id": "MSE_Loss_Test",
          "locked": true,
          "points": 2,
          "schema_version": 3,
          "solution": false,
          "task": false
        },
        "id": "jH_tAheDP0gx"
      },
      "outputs": [],
      "source": [
        "'''\n",
        "TEST CASES, DO NOT CHANGE\n",
        "'''\n",
        "''' case 1 '''\n",
        "X=np.array([[3,6,5],[4.5,6.6,6]])\n",
        "t=np.array([4,5.5])\n",
        "w=np.array([2,-1,0.5,1])\n",
        "np.testing.assert_almost_equal(MSE_Loss(X,t,w),0.53,decimal=3)\n"
      ]
    },
    {
      "cell_type": "markdown",
      "source": [
        "MAE loss or Mean Absoloute Error Loss, as the name suggests its the Mean of the sum of absoloute values of individual errors. That is:\n",
        "\n",
        "(1/n)*Σ|(t-y)|  \n",
        "\n",
        "(n being the total number of y or t terms)"
      ],
      "metadata": {
        "id": "dz-gzCKPqVZs"
      }
    },
    {
      "cell_type": "code",
      "execution_count": null,
      "metadata": {
        "deletable": false,
        "nbgrader": {
          "cell_type": "code",
          "checksum": "b0b3b381c7a3ac5d7dfbb5df647c0d85",
          "grade": false,
          "grade_id": "MAE_Loss",
          "locked": false,
          "schema_version": 3,
          "solution": true,
          "task": false
        },
        "id": "mTCrJNwTP0gy"
      },
      "outputs": [],
      "source": [
        "def MAE_Loss (X, t, w, lamda = 0): # Output should be a single number\n",
        "\n",
        "    # Firstly we need to generate the output that is predicted with the given Data and weights.\n",
        "    y = Prediction (X, w)\n",
        "\n",
        "    # Now simply we find the difference (t - y) and compute its absoloute it using the abs() and their mean using mean()\n",
        "    MaeLoss = np.mean(np.abs(np.subtract(t,y)))\n",
        "    return MaeLoss\n",
        "\n",
        "    #raise NotImplementedError()"
      ]
    },
    {
      "cell_type": "code",
      "execution_count": null,
      "metadata": {
        "deletable": false,
        "editable": false,
        "nbgrader": {
          "cell_type": "code",
          "checksum": "f11d5fde7220893a9809f2954d18c5e5",
          "grade": true,
          "grade_id": "MAE_Loss_Test",
          "locked": true,
          "points": 2,
          "schema_version": 3,
          "solution": false,
          "task": false
        },
        "id": "zWxGUTrgP0gy"
      },
      "outputs": [],
      "source": [
        "'''\n",
        "TEST CASES, DO NOT CHANGE\n",
        "'''\n",
        "''' case 1 '''\n",
        "X=np.array([[3,6,5],[4.5,6.6,6]])\n",
        "t=np.array([4,5.5])\n",
        "w=np.array([2,-1,0.5,1])\n",
        "np.testing.assert_almost_equal(MAE_Loss(X,t,w),0.700,decimal=3)\n"
      ]
    },
    {
      "cell_type": "markdown",
      "source": [
        "L2 loss is Mean Square Error Loss + L2 regularization, so we compute the Mean of the sum of square of individual errors along with that we use an additional term λΣw^2 That is:\n",
        "\n",
        "(1/n)*Σ(t-y)^2 + λΣw^2  \n",
        "\n",
        "(n being the total number of y or t terms)"
      ],
      "metadata": {
        "id": "4pHJROaEqqCN"
      }
    },
    {
      "cell_type": "code",
      "execution_count": null,
      "metadata": {
        "deletable": false,
        "nbgrader": {
          "cell_type": "code",
          "checksum": "a8309762ea56bb6b24bbbf4a19cb16bc",
          "grade": false,
          "grade_id": "L2_Loss",
          "locked": false,
          "schema_version": 3,
          "solution": true,
          "task": false
        },
        "id": "O9xkQEyBP0gy"
      },
      "outputs": [],
      "source": [
        "def L2_Loss (X, t, w, lamda): # Output should be a single number based on L2-norm (with sqrt)\n",
        "    ''' Need to specify what inputs are'''\n",
        "    # Firstly we need to find the MSE loss for the generated output using the given Data and weights.\n",
        "    MseLoss = MSE_Loss (X, t, w, lamda)\n",
        "\n",
        "    # Now a thing to keep in mind, we are to exclude the bias term to compute regulation so a new weights array is generated with the bias term removed.\n",
        "    w_ac = np.delete(w, -1)\n",
        "\n",
        "    # According to the formula computing the regulization\n",
        "    reg = lamda * np.sqrt(np.sum(np.square(w_ac)))\n",
        "\n",
        "    # Finally the L2 loss\n",
        "    L2loss = MseLoss + reg\n",
        "    return L2loss\n",
        "    #raise NotImplementedError()"
      ]
    },
    {
      "cell_type": "code",
      "execution_count": null,
      "metadata": {
        "deletable": false,
        "editable": false,
        "nbgrader": {
          "cell_type": "code",
          "checksum": "a5a409056f6797cdf8cbfab61b138c37",
          "grade": true,
          "grade_id": "L2_Loss_Test",
          "locked": true,
          "points": 2,
          "schema_version": 3,
          "solution": false,
          "task": false
        },
        "id": "vApEKvQoP0gz"
      },
      "outputs": [],
      "source": [
        "'''\n",
        "TEST CASES, DO NOT CHANGE\n",
        "'''\n",
        "''' case 1 '''\n",
        "X=np.array([[3,6,5],[4.5,6.6,6]])\n",
        "t=np.array([4,5.5])\n",
        "w=np.array([2,-1,0.5,1])\n",
        "np.testing.assert_almost_equal(L2_Loss(X,t,w,0.5),1.675,decimal=3)\n"
      ]
    },
    {
      "cell_type": "markdown",
      "source": [
        "L1 loss is Mean Square Error Loss + L1 regularization, so we compute the Mean of the sum of square of individual errors along with that we use an additional term λΣ|w| That is:\n",
        "\n",
        "(1/n)*Σ(t-y)^2 + λΣ|w|\n",
        "\n",
        "(n being the total number of y or t terms)"
      ],
      "metadata": {
        "id": "IIIzDT-btLNJ"
      }
    },
    {
      "cell_type": "code",
      "execution_count": null,
      "metadata": {
        "deletable": false,
        "nbgrader": {
          "cell_type": "code",
          "checksum": "1af69c123815524cdc71c72e09ece638",
          "grade": false,
          "grade_id": "L1_Loss",
          "locked": false,
          "schema_version": 3,
          "solution": true,
          "task": false
        },
        "id": "1KdihUmoP0gz"
      },
      "outputs": [],
      "source": [
        "def L1_Loss (X, t, w, lamda): # Output should be a single number\n",
        "\n",
        "    # Firstly we need to find the MSE loss for the generated output using the given Data and weights.\n",
        "    MseLoss = MSE_Loss (X, t, w, lamda)\n",
        "\n",
        "    # Excluding the bias term to compute regulation so a new weights array is generated with the bias term removed.\n",
        "    w_ac = np.delete(w, -1)\n",
        "\n",
        "    # According to the formula computing the regulization\n",
        "    reg = lamda * np.sum(np.abs(w_ac))\n",
        "\n",
        "    # Finally the L1 loss\n",
        "    L1loss = MseLoss + reg\n",
        "    return L1loss\n",
        "    #raise NotImplementedError()"
      ]
    },
    {
      "cell_type": "code",
      "execution_count": null,
      "metadata": {
        "deletable": false,
        "editable": false,
        "nbgrader": {
          "cell_type": "code",
          "checksum": "40224dd69dd8e6499a67271c33701bf4",
          "grade": true,
          "grade_id": "L1_Loss_Test",
          "locked": true,
          "points": 2,
          "schema_version": 3,
          "solution": false,
          "task": false
        },
        "id": "38V9rKjDP0gz"
      },
      "outputs": [],
      "source": [
        "'''\n",
        "TEST CASES, DO NOT CHANGE\n",
        "'''\n",
        "''' case 1 '''\n",
        "X=np.array([[3,6,5],[4.5,6.6,6]])\n",
        "t=np.array([4,5.5])\n",
        "w=np.array([2,-1,0.5,1])\n",
        "np.testing.assert_almost_equal(L1_Loss(X,t,w,0.5),2.280,decimal=3)\n"
      ]
    },
    {
      "cell_type": "markdown",
      "source": [
        "NRMSE of Normalized Root Mean Square Error as the name suggests is the normalized RMSE. And to Normalize we are going to divide using the standard deviation of the target."
      ],
      "metadata": {
        "id": "NtNop1snt1xj"
      }
    },
    {
      "cell_type": "code",
      "execution_count": null,
      "metadata": {
        "deletable": false,
        "nbgrader": {
          "cell_type": "code",
          "checksum": "855bd2ded492e567b20f1d9705d9a97a",
          "grade": false,
          "grade_id": "NRMSE_Metric",
          "locked": false,
          "schema_version": 3,
          "solution": true,
          "task": false
        },
        "id": "twm-fygSP0gz"
      },
      "outputs": [],
      "source": [
        "def NRMSE_Metric (X, t, w, lamda=0): # Output should be a single number. RMSE/std_dev(t)\n",
        "\n",
        "    # First we are computing the RMSE for the given Data weigths and lambda.\n",
        "    rmse = np.sqrt(MSE_Loss (X, t, w, lamda =0))\n",
        "\n",
        "    # The standard deviation of the elements of t as given in the formula beside the method definition.\n",
        "    stdev = np.std(t)\n",
        "\n",
        "    # Computing the NRMSE\n",
        "    nrmse = rmse / stdev\n",
        "    return nrmse\n",
        "\n",
        "    #raise NotImplementedError()"
      ]
    },
    {
      "cell_type": "code",
      "execution_count": null,
      "metadata": {
        "deletable": false,
        "editable": false,
        "nbgrader": {
          "cell_type": "code",
          "checksum": "256795799ceb6dfa0b32ab75e8ef30c4",
          "grade": true,
          "grade_id": "NRMSE_Metric_Test",
          "locked": true,
          "points": 2,
          "schema_version": 3,
          "solution": false,
          "task": false
        },
        "id": "eDuTFs7UP0g0"
      },
      "outputs": [],
      "source": [
        "'''\n",
        "TEST CASES, DO NOT CHANGE\n",
        "'''\n",
        "''' Test case 1 '''\n",
        "X=np.array([[3,6,5],[4.5,6.6,6]])\n",
        "t=np.array([4,5.5])\n",
        "w=np.array([2,-1,0.5,1])\n",
        "np.testing.assert_almost_equal(NRMSE_Metric(X,t,w,0.5),0.970,decimal=3)\n"
      ]
    },
    {
      "cell_type": "markdown",
      "metadata": {
        "deletable": false,
        "editable": false,
        "nbgrader": {
          "cell_type": "markdown",
          "checksum": "cc5df30e29bbe17d4bc7aa89210eb5cf",
          "grade": false,
          "grade_id": "Gradient_Title",
          "locked": true,
          "schema_version": 3,
          "solution": false,
          "task": false
        },
        "id": "tB2won1aP0g0"
      },
      "source": [
        "## Gradient function\n",
        "Each Loss function will have its own gradient function:\n",
        "\n",
        "1. MSE gradient is only for the error\n",
        "2. MAE gradient is only for the error\n",
        "3. L2 gradient is for MSE and L2 regularization, and can call MSE gradient\n",
        "4. L1 gradient is for MSE and L1 regularization, and can call MSE gradient"
      ]
    },
    {
      "cell_type": "markdown",
      "source": [
        "The Gradient of a prediction model is obtained by differentiating the loss function w.r.t. the"
      ],
      "metadata": {
        "id": "WSXToZTFzfZI"
      }
    },
    {
      "cell_type": "code",
      "execution_count": null,
      "metadata": {
        "deletable": false,
        "nbgrader": {
          "cell_type": "code",
          "checksum": "0190492ee216edce701f93e697572fc1",
          "grade": false,
          "grade_id": "MSE_Gradient",
          "locked": false,
          "schema_version": 3,
          "solution": true,
          "task": false
        },
        "id": "OyoE1IptP0g1"
      },
      "outputs": [],
      "source": [
        "def MSE_Gradient (X, t, w, lamda=0): # Output should have the same size as w\n",
        "    # YOUR CODE HERE\n",
        "\n",
        "    # Now adding the extra columns of 1s in the Data matrix and using that and the weights prepare a prediction\n",
        "    p = np.ones(len(X))\n",
        "    X = np.c_[X,p]\n",
        "    y = np.dot(X,w)\n",
        "\n",
        "    # Computing the error array by subtracting the prediction and target\n",
        "    err = y - t\n",
        "\n",
        "    # Just to properly multipy the data Matrix we prepare a transpose matrix\n",
        "    Xt = np.transpose(X)\n",
        "\n",
        "    # Finally the Gradient\n",
        "    MseGrad = np.dot(Xt,err)\n",
        "    return MseGrad\n",
        "    #raise NotImplementedError()"
      ]
    },
    {
      "cell_type": "code",
      "execution_count": null,
      "metadata": {
        "deletable": false,
        "editable": false,
        "nbgrader": {
          "cell_type": "code",
          "checksum": "d61466927592a8776a8bfa688472bad4",
          "grade": true,
          "grade_id": "MSE_Gradient_Test",
          "locked": true,
          "points": 3,
          "schema_version": 3,
          "solution": false,
          "task": false
        },
        "id": "S0BdLRuxP0g1"
      },
      "outputs": [],
      "source": [
        "'''\n",
        "TEST CASES, DO NOT CHANGE\n",
        "'''\n",
        "''' case 1 '''\n",
        "X=np.array([[3,6,5],[4.5,6.6,6]])\n",
        "t=np.array([4,5.5])\n",
        "w=np.array([2,-1,0.5,1])\n",
        "np.testing.assert_array_almost_equal(MSE_Gradient(X,t,w),np.array([2.55, 2.94, 2.9 , 0.4 ]),decimal=3)\n"
      ]
    },
    {
      "cell_type": "code",
      "execution_count": null,
      "metadata": {
        "deletable": false,
        "nbgrader": {
          "cell_type": "code",
          "checksum": "49cc4e37cafad52f41853b4b0e71f89f",
          "grade": false,
          "grade_id": "MAE_Gradient",
          "locked": false,
          "schema_version": 3,
          "solution": true,
          "task": false
        },
        "id": "ktuxiXBdP0g1"
      },
      "outputs": [],
      "source": [
        "def MAE_Gradient (X, t, w, lamda=0): # Output should have the same size as w\n",
        "    # YOUR CODE HERE\n",
        "\n",
        "    # Adding the extra columns of 1s in the Data matrix and using that and the weights prepare a prediction\n",
        "    p = np.ones(len(X))\n",
        "    X = np.c_[X,p]\n",
        "    y = np.dot(X,w)\n",
        "\n",
        "    # Computing the absolute error array by subtracting the prediction and target and using abs()\n",
        "    err = y - t\n",
        "    absErr = np.abs(err)\n",
        "\n",
        "    # Now for our case we are not compensating 0.5 so we have to multiply it seperately\n",
        "    absMat = 0.5 * (err / absErr)\n",
        "\n",
        "    # Just to properly multipy the data Matrix we prepare a transpose matrix\n",
        "    Xt = np.transpose(X)\n",
        "\n",
        "    # Finally the Gradient\n",
        "    MaeGrad = np.dot(Xt,absMat)\n",
        "    return MaeGrad\n",
        "    #raise NotImplementedError()"
      ]
    },
    {
      "cell_type": "code",
      "execution_count": null,
      "metadata": {
        "deletable": false,
        "editable": false,
        "nbgrader": {
          "cell_type": "code",
          "checksum": "e1d418bf5351112ae8716877f8bb6359",
          "grade": true,
          "grade_id": "MAE_Gradient_Test",
          "locked": true,
          "points": 3,
          "schema_version": 3,
          "solution": false,
          "task": false
        },
        "id": "zYjqXX2hP0g2"
      },
      "outputs": [],
      "source": [
        "'''\n",
        "TEST CASES, DO NOT CHANGE\n",
        "'''\n",
        "''' case 1 '''\n",
        "X=np.array([[3,6,5],[4.5,6.6,6]])\n",
        "t=np.array([4,5.5])\n",
        "w=np.array([2,-1,0.5,1])\n",
        "np.testing.assert_array_almost_equal(MAE_Gradient(X,t,w),np.array([0.75,  0.3 ,  0.5 , 0.]),decimal=3)\n"
      ]
    },
    {
      "cell_type": "code",
      "execution_count": null,
      "metadata": {
        "deletable": false,
        "nbgrader": {
          "cell_type": "code",
          "checksum": "595829c0dd17df55a03d346fac507b4a",
          "grade": false,
          "grade_id": "L2_Gradient",
          "locked": false,
          "schema_version": 3,
          "solution": true,
          "task": false
        },
        "id": "x85HY7nWP0g2"
      },
      "outputs": [],
      "source": [
        "def L2_Gradient (X, t, w, lamda): # Output should have the same size as w\n",
        "    # YOUR CODE HERE\n",
        "\n",
        "    # We are simply calculating the MSE gradient by directly using the functions defined above\n",
        "    MseGrad = MSE_Gradient (X, t, w, lamda)\n",
        "\n",
        "    # Now this manuvre done here is to ensure that the bias term is not taken during regularization\n",
        "    # But this is only ok for L2 since each element is going to be divided by norm of w so no chance of dividing by 0\n",
        "    w[-1] = 0\n",
        "    norm_w = ( np.sum(np.square(w)) )**0.5\n",
        "\n",
        "    # Thus now calculating the regulation for the gradient\n",
        "    regu = lamda * (w/norm_w)\n",
        "\n",
        "    #finally the L2 gradient\n",
        "    L2Grad = MseGrad + regu\n",
        "    return (L2Grad)\n",
        "    #raise NotImplementedError()"
      ]
    },
    {
      "cell_type": "code",
      "execution_count": null,
      "metadata": {
        "deletable": false,
        "editable": false,
        "nbgrader": {
          "cell_type": "code",
          "checksum": "f292b42c3389b24e369234a7210b87bb",
          "grade": true,
          "grade_id": "L2_Gradient_Test",
          "locked": true,
          "points": 3,
          "schema_version": 3,
          "solution": false,
          "task": false
        },
        "id": "6zQYsxVOP0g2"
      },
      "outputs": [],
      "source": [
        "'''\n",
        "TEST CASES, DO NOT CHANGE\n",
        "'''\n",
        "''' case 1 '''\n",
        "X=np.array([[3,6,5],[4.5,6.6,6]])\n",
        "t=np.array([4,5.5])\n",
        "w=np.array([2,-1,0.5,1])\n",
        "np.testing.assert_array_almost_equal(L2_Gradient(X,t,w,0.5),np.array([2.986, 2.721, 3.009 , 0.4 ]),decimal=3)\n"
      ]
    },
    {
      "cell_type": "code",
      "execution_count": null,
      "metadata": {
        "deletable": false,
        "nbgrader": {
          "cell_type": "code",
          "checksum": "141736f1feda5aa225e008d749f0015c",
          "grade": false,
          "grade_id": "L1_Gradient",
          "locked": false,
          "schema_version": 3,
          "solution": true,
          "task": false
        },
        "id": "WhayepEfP0g3"
      },
      "outputs": [],
      "source": [
        "def L1_Gradient (X, t, w, lamda): # Output should have the same size as w\n",
        "    # YOUR CODE HERE\n",
        "\n",
        "    # Calculating the MSE gradient by directly using the functions defined before.\n",
        "    MseGrad = MSE_Gradient (X, t, w, lamda)\n",
        "\n",
        "    # According to the formula we have to divide each w with their absoloute value thus we comute those values.\n",
        "    # One thing to keep in mind is that these divisors cannot be 0, this has to be ensured during training.\n",
        "    abs_w = np.abs(w)\n",
        "\n",
        "    # Now we simply compute the regularization.\n",
        "    regu = lamda * (w/abs_w)\n",
        "\n",
        "    # Making the bias term as 0 so as to keep it out of computation.\n",
        "    regu[-1] = 0\n",
        "\n",
        "    # Computing the L1 gradient\n",
        "    L1Grad = MseGrad + regu\n",
        "    return (L1Grad)\n",
        "    #raise NotImplementedError()"
      ]
    },
    {
      "cell_type": "code",
      "execution_count": null,
      "metadata": {
        "deletable": false,
        "editable": false,
        "nbgrader": {
          "cell_type": "code",
          "checksum": "9097b61320e470f429a9f46c7da0b219",
          "grade": true,
          "grade_id": "L1_Gradient_Test",
          "locked": true,
          "points": 3,
          "schema_version": 3,
          "solution": false,
          "task": false
        },
        "id": "436G5em3P0g3"
      },
      "outputs": [],
      "source": [
        "'''\n",
        "TEST CASES, DO NOT CHANGE\n",
        "'''\n",
        "''' case 1 '''\n",
        "X=np.array([[3,6,5],[4.5,6.6,6]])\n",
        "t=np.array([4,5.5])\n",
        "w=np.array([2,-1,0.5,1])\n",
        "np.testing.assert_array_almost_equal(L1_Gradient(X,t,w,0.5),np.array([3.05, 2.44, 3.4 , 0.4 ]),decimal=3)\n"
      ]
    },
    {
      "cell_type": "markdown",
      "metadata": {
        "deletable": false,
        "editable": false,
        "nbgrader": {
          "cell_type": "markdown",
          "checksum": "1980a2f831b5e1ddc9b510c22ef502c7",
          "grade": false,
          "grade_id": "Gradient_Desc_Title",
          "locked": true,
          "schema_version": 3,
          "solution": false,
          "task": false
        },
        "id": "FoCYmSoNP0g3"
      },
      "source": [
        "## Gradient Descent Function\n"
      ]
    },
    {
      "cell_type": "code",
      "execution_count": null,
      "metadata": {
        "deletable": false,
        "nbgrader": {
          "cell_type": "code",
          "checksum": "78cdd5ffa4590c10e19281722ccd537f",
          "grade": false,
          "grade_id": "Gradient_Descent",
          "locked": false,
          "schema_version": 3,
          "solution": true,
          "task": false
        },
        "id": "Fyo64Wi8P0g3"
      },
      "outputs": [],
      "source": [
        "def Gradient_Descent (X, X_val, t, t_val, w, lamda, max_iter, epsilon, lr, lossfunc, gradfunc): # See output format in 'return' statement\n",
        "\n",
        "    # Now we simply try to adjust the value of w based on gradient descent with then given loss and gradient function.\n",
        "    # So my aim is to keep optimizing the value of w based on a fixed lamda on the training set until the change loss is less than epsilon.\n",
        "\n",
        "    #to compare the previous loss for an un-updated w and the present updated w in every iteration.\n",
        "    prev_cost = 0\n",
        "\n",
        "    # we keep iterating until we iterate max_iter times.\n",
        "    for i in range(max_iter):\n",
        "        curr_cost = lossfunc (X, t, w, lamda) #calculating the loss for a current w\n",
        "        if (abs(prev_cost - curr_cost)<=epsilon):\n",
        "            break # If the difference between consecutive losses are almost the same then we brak out\n",
        "\n",
        "        # If change in loss is still more then epsilon we update the weights using gradent descent\n",
        "        w = w - (lr * gradfunc(X, t, w, lamda))\n",
        "        prev_cost = curr_cost\n",
        "\n",
        "\n",
        "    # so now we have the best set of trainied weights we put them in to the w_final variable and compute the final training and vaildation losses\n",
        "    # Mind you these losses are are MSE not RMSE\n",
        "    w_final = w\n",
        "\n",
        "    # The training loss has to be computed on the training dataset and training target, based on a particular lambda\n",
        "    train_loss_final = lossfunc(X, t, w_final, lamda)\n",
        "\n",
        "    # The validation loss has to be computed on the validation dataset and validation target, based on a particular lambda\n",
        "    validation_loss_final = lossfunc(X_val, t_val, w_final, lamda)\n",
        "\n",
        "    # The validation NRMSE has to be computed on the validation dataset and Validation target using the NRMSE_Metric function, based on a particular lambda\n",
        "    validation_NRMSE = NRMSE_Metric (X_val, t_val, w_final, lamda)\n",
        "\n",
        "    #raise NotImplementedError()\n",
        "    return w_final, train_loss_final, validation_loss_final, validation_NRMSE #You should return variables structured like this.\n",
        ""
      ]
    },
    {
      "cell_type": "code",
      "execution_count": null,
      "metadata": {
        "deletable": false,
        "editable": false,
        "nbgrader": {
          "cell_type": "code",
          "checksum": "15a67336bed20a51f33820bf615186e8",
          "grade": true,
          "grade_id": "Gradient_Check",
          "locked": true,
          "points": 20,
          "schema_version": 3,
          "solution": false,
          "task": false
        },
        "id": "GsDB7wJpP0g4"
      },
      "outputs": [],
      "source": [
        "\n",
        "'''\n",
        "TEST CASES, DO NOT CHANGE\n",
        "'''\n",
        "X=np.array([[23,24],[1,2]])\n",
        "t=np.array([4,5])\n",
        "X_val=np.array([[3,4],[5,6]])\n",
        "t_val=np.array([3,4])\n",
        "w=np.array([3,2,1])\n",
        "results =Gradient_Descent (X, X_val, t, t_val, w, 0.1, 100, 1e-10, 1e-5, L2_Loss,L2_Gradient)\n",
        "np.testing.assert_allclose([results[1]],[697.919],rtol =0.05)\n",
        "np.testing.assert_allclose([results[2]],[20],atol=5) # we expect around 17.5  but some students got 24 which we will also accept\n",
        "#Instructor Values of results[1] and results [2] are 697.919 and 17.512 respectively"
      ]
    },
    {
      "cell_type": "markdown",
      "metadata": {
        "deletable": false,
        "editable": false,
        "nbgrader": {
          "cell_type": "markdown",
          "checksum": "24f327aa6a14590077f907ee8323724c",
          "grade": false,
          "grade_id": "PseudoInvTitle",
          "locked": true,
          "schema_version": 3,
          "solution": false,
          "task": false
        },
        "id": "zuQrcqBKP0g4"
      },
      "source": [
        "## Pseudo Inverse Method\n",
        "\n",
        "You have to implement a slightly more advanced version, with L2 penalty:\n",
        "\n",
        "w = (X' X + lambda I)^(-1) X' t.\n",
        "\n",
        "See, for example: Section 2 of https://web.mit.edu/zoya/www/linearRegression.pdf\n",
        "\n",
        "Here, the column of 1's in assumed to be included in X"
      ]
    },
    {
      "cell_type": "markdown",
      "source": [
        "**In this method I am using the given formula**:\n",
        "\n",
        "w = (X' X + lambda I)^(-1) X' t\n",
        "\n",
        "I am going to denote X' X as A\n",
        "\n",
        "And denoting: (X' X + lambda I) as B"
      ],
      "metadata": {
        "id": "afX5rL5d60-F"
      }
    },
    {
      "cell_type": "code",
      "execution_count": null,
      "metadata": {
        "deletable": false,
        "nbgrader": {
          "cell_type": "code",
          "checksum": "928c9b105c4bcf3c132c7520a140d509",
          "grade": false,
          "grade_id": "PseudoInv",
          "locked": false,
          "schema_version": 3,
          "solution": true,
          "task": false
        },
        "id": "mI8koKQgP0g5"
      },
      "outputs": [],
      "source": [
        "def Pseudo_Inverse (X, t, lamda): # Output should be weight vector\n",
        "    # YOUR CODE HERE\n",
        "\n",
        "    # Adding the coloumn of 1s for bias terms\n",
        "    p = np.ones(len(X))\n",
        "    X = np.c_[X,p]\n",
        "\n",
        "    # The transpose of the dataset\n",
        "    Xt = np.transpose(X)\n",
        "\n",
        "    # The X'X matrix\n",
        "    A = np.dot(Xt,X)\n",
        "\n",
        "    # To form the Identity matrix we need the dimension of X'X\n",
        "    n = len(A)\n",
        "    I = np.identity(n, dtype = float)\n",
        "\n",
        "    # Computing (X' X + lambda I)\n",
        "    B = np.linalg.inv(A + (lamda*I))\n",
        "\n",
        "    # Finally the weights array is this\n",
        "    w = np.dot(np.dot(B,Xt),t)\n",
        "    return (w)\n",
        "    #raise NotImplementedError() a)"
      ]
    },
    {
      "cell_type": "code",
      "execution_count": null,
      "metadata": {
        "deletable": false,
        "editable": false,
        "nbgrader": {
          "cell_type": "code",
          "checksum": "a5178b8280650ed5d1d55dc6bbb38a29",
          "grade": true,
          "grade_id": "PseudoInvTest",
          "locked": true,
          "points": 10,
          "schema_version": 3,
          "solution": false,
          "task": false
        },
        "id": "etVVjyXNP0g5"
      },
      "outputs": [],
      "source": [
        "'''\n",
        "TEST CASES, DO NOT CHANGE\n",
        "'''\n",
        "''' case 1 - other data'''\n",
        "X=np.array([[3,6,5],[4.5,6.6,6]])\n",
        "t=np.array([4,5.5])\n",
        "np.testing.assert_array_almost_equal(Pseudo_Inverse(X,t,0.5),np.array([ 0.491,  0.183,  0.319, -0.002]),decimal=3)"
      ]
    },
    {
      "cell_type": "markdown",
      "metadata": {
        "deletable": false,
        "editable": false,
        "nbgrader": {
          "cell_type": "markdown",
          "checksum": "8748fcc0dc96df6e7bb48a4e315927d3",
          "grade": false,
          "grade_id": "cell-e0fa02d7eecfb851",
          "locked": true,
          "schema_version": 3,
          "solution": false,
          "task": false
        },
        "id": "CPoO2NNeP0g5"
      },
      "source": [
        "#... Part 1 ends Below this you be more creative. Just comment out the lines where you save files (e.g. test predictions)."
      ]
    },
    {
      "cell_type": "markdown",
      "metadata": {
        "deletable": false,
        "editable": false,
        "nbgrader": {
          "cell_type": "markdown",
          "checksum": "c9047f75587bfee6b7b0a4b244efc7fa",
          "grade": false,
          "grade_id": "cell-10f0d275f5cd36f6",
          "locked": true,
          "schema_version": 3,
          "solution": false,
          "task": false
        },
        "id": "Zg9CdGdQP0g6"
      },
      "source": [
        "#**Part 2 begins ...**\n",
        "\n",
        "**Instructions to be loosely followed (except number 8):**\n",
        "\n",
        "1. Add more code and text cells between this and the last cell.\n",
        "2. Read training data from: https://www.ee.iitb.ac.in/~asethi/Dump/TempTrain.csv only. Do not use a local copy of the dataset.\n",
        "3. Find the best lamda for **MSE+lamda*L2(w)** loss function. Plot training and validation RMSE vs. 1/lamda (1/lamda represents model complexity). Print weights, validation RMSE, validation NRMSE for the best lamda.\n",
        "4. Find the best lamda for **MSE+lamda*L1(w)** loss function. Plot training and validation RMSE vs. 1/lamda (1/lamda represents model complexity). Print weights, validation RMSE, validation NRMSE for the best lamda.\n",
        "5. Find the best lamda for the **pseudo-inv method**. Plot training and validation RMSE vs. 1/lamda (1/lamda represents model complexity). Print weights, validation RMSE, validation NRMSE for the best lamda.\n",
        "6. Plot a predicted vs. actual plot for the validation data for the best model, and compute its R^2.\n",
        "7. Write your observations and conclusions.\n",
        "8. Read test data from: https://www.ee.iitb.ac.in/~asethi/Dump/TempTest.csv only. Do not use a local copy of the dataset. Predict its dependent (missing last column) using the model with the lowest MSE, RMSE, or NRMSE. Save it as a file RollNo1_RollNo2_1.csv.\n",
        "9. **Disable the prediction csv file saving statement and submit this entire .ipynb file, .py file, and .csv file as a single RollNo1_RollNo2_1.zip file.**\n"
      ]
    },
    {
      "cell_type": "markdown",
      "source": [
        "Before starting this I would highly advise the user to run the cells from top to bottom, as there are variable declarations that might affect the code if the oreder is not maintained. Thank You\n",
        "\n",
        "\n",
        "**The training set is in :** https://www.ee.iitb.ac.in/~asethi/Dump/TempTrain.csv"
      ],
      "metadata": {
        "id": "Q5tnBKzS8Sgd"
      }
    },
    {
      "cell_type": "code",
      "source": [
        "import numpy as np\n",
        "import pandas as pd\n",
        "import math as mt\n",
        "# I am importing these again in case only this section is run and the one on top is not.\n",
        "# Opening this csv file required this and google colab did not have this so installing it seperately\n",
        "!pip install fsspec\n",
        "\n",
        "url_path = \"https://www.ee.iitb.ac.in/~asethi/Dump/TempTrain.csv\"\n",
        "df = pd.read_csv( url_path )\n",
        "\n",
        "#now that we have the data frame I am convertin it to a numpy matrix.\n",
        "arr = df.to_numpy()\n",
        "\n",
        "arr_norm = Normalize(arr) # normalizing, as the differences in the data might cause problems.\n",
        "np.random.shuffle(arr_norm) # shuffle.\n",
        "\n",
        "# splitting into Training and Validation sets.\n",
        "t_set = arr_norm[:,-1]\n",
        "X_set = arr_norm[:,0:-1]\n",
        "\n",
        "# Selecting 80% of the dataset as training data and 20% as validation data.\n",
        "\n",
        "# Validation data will be 20% so declaring that particular point.\n",
        "val_len = int(0.2 * len(t_set))\n",
        "\n",
        "# Taking 20% off the total data from the top (index 0 to 20% point) for valiaton purpose.\n",
        "t_val = t_set[0:val_len]\n",
        "X_val = X_set[0:val_len,:] # we are specifying the rows and taing all coloumns\n",
        "\n",
        "# Data from that 20% point till the end goes to model Training.\n",
        "t = t_set[val_len:len(t_set)]\n",
        "X = X_set[val_len:len(t_set),:] # we are specifying the rows and taing all coloumns\n",
        "\n",
        "# Now these variables will help us later on when we compare model superiority\n",
        "# The err_<model> variables store the NRMSE errors of each model\n",
        "err_L2 = 0\n",
        "err_L1 = 0\n",
        "err_PI = 0\n",
        "# The w_<model> variables store the weights for best lambda of each model\n",
        "w_L2 = []\n",
        "w_L1 = []\n",
        "w_PI = []\n",
        "\n",
        "# To store the best model parameters out of the three\n",
        "bestModel_w = []"
      ],
      "metadata": {
        "id": "Rph0bHWtixlL",
        "colab": {
          "base_uri": "https://localhost:8080/"
        },
        "outputId": "a5386592-4a65-4a4d-ac56-3c669f9400f6"
      },
      "execution_count": null,
      "outputs": [
        {
          "output_type": "stream",
          "name": "stdout",
          "text": [
            "Looking in indexes: https://pypi.org/simple, https://us-python.pkg.dev/colab-wheels/public/simple/\n",
            "Collecting fsspec\n",
            "  Downloading fsspec-2022.7.1-py3-none-any.whl (141 kB)\n",
            "\u001b[K     |████████████████████████████████| 141 kB 4.9 MB/s \n",
            "\u001b[?25hInstalling collected packages: fsspec\n",
            "Successfully installed fsspec-2022.7.1\n"
          ]
        }
      ]
    },
    {
      "cell_type": "markdown",
      "source": [
        "Finding the best lamda for **MSE+lamda*L2(w)** loss function i.e. L2 loss function.\n",
        "\n",
        "Plotting the training and validation RMSE vs. 1/lamda.\n",
        "\n",
        "Printing weights, validation RMSE, validation NRMSE for the best lamda."
      ],
      "metadata": {
        "id": "dvF4VUEE-mXD"
      }
    },
    {
      "cell_type": "code",
      "source": [
        "def bestLamL2 ():\n",
        "\n",
        "  # So that the global variables can be modified we need to declare them global.\n",
        "  global err_L2\n",
        "  global w_L2\n",
        "\n",
        "  # So we are to find a particular λ\n",
        "  # Before that we have to have a particular starting weights array it can be anything but has to be initialized.\n",
        "  sh = X.shape\n",
        "  w = np.random.randint(-5,5,sh[1])\n",
        "\n",
        "  # Adding that bias temrm by adding a coloumn of 1s\n",
        "  w = np.append(w,1)\n",
        "\n",
        "  # These lists are to plot the required graphs\n",
        "  lamInv = []  # Complexity\n",
        "  tr_loss = [] # Training loss\n",
        "  val_loss = []# Validation loss\n",
        "\n",
        "  # I am using the same values as used to verify the gradient descent function's correctness\n",
        "  epsilon = 1e-10\n",
        "  max_iter = 100\n",
        "  lr = 1e-5\n",
        "\n",
        "  # I have observed that generally the error changes very less for higher values of complexity\n",
        "  # Thus I am considering plotting for complexities in the range of 0.1 to 40 as it captures the required parts\n",
        "  lamda = 10.0\n",
        "\n",
        "  # I am running the values of lambda in reverse so that the curve is plotted in increasing order of complexity\n",
        "  while (lamda >= 0.025):\n",
        "\n",
        "    # The gradient descent method gives the losses directly so using that\n",
        "    resultsL2 = Gradient_Descent (X, X_val, t, t_val, w, lamda, max_iter, epsilon, lr, L2_Loss,L2_Gradient)\n",
        "\n",
        "    # Appending the losses to the respective lists\n",
        "    tr_loss = np.append(tr_loss,resultsL2[1])\n",
        "    val_loss = np.append(val_loss,resultsL2[2])\n",
        "    lamInv = np.append(lamInv,(1/lamda))\n",
        "    lamda = lamda - 0.001\n",
        "\n",
        "  # Converting all the MSE losses to RMSE losses\n",
        "  tr_loss = np.sqrt(tr_loss)\n",
        "  val_loss = np.sqrt(val_loss)\n",
        "\n",
        "  # Now where to stop as the lowest value is better and better for increasing complexity\n",
        "  # Thus if the value is within 5% of its decay we are selecting that value\n",
        "  min_lim = min(val_loss)\n",
        "  max_lim = max(val_loss)\n",
        "\n",
        "  # tolerance stores the value at which we get the best lambda\n",
        "  tolerance = 0.05* (max_lim - min_lim) + min_lim\n",
        "\n",
        "  # c serves as the element index in the respective lists, to locate the best lambda\n",
        "  c = 0\n",
        "\n",
        "  # So now we go through the validation losses and select the first lambda that indicates the 95% decay of the loss\n",
        "  for i in val_loss :\n",
        "    if (i <= tolerance):\n",
        "      break\n",
        "    c = c + 1\n",
        "\n",
        "  # So the best lambda is found out by inverting the complexiy (in lamInv list) at index c\n",
        "  best_lamda = 1/lamInv[c]\n",
        "\n",
        "  # Using the gradient descent function one last time to get the best set of weights\n",
        "  finalL2 = Gradient_Descent (X, X_val, t, t_val, w, best_lamda, max_iter, epsilon, lr, L2_Loss,L2_Gradient)\n",
        "  # Now displaying them\n",
        "  print (\"Best Lamda \", str(best_lamda))\n",
        "  print()\n",
        "  print (\"Weights \", str(finalL2[0]))\n",
        "  print()\n",
        "  print (\"Validation RMSE Loss \", str(val_loss[c]))\n",
        "  print()\n",
        "  print (\"Validation NRMSE Loss \", str(finalL2[3]))\n",
        "  print()\n",
        "\n",
        "  #storing the comparison parameters\n",
        "  err_L2 = finalL2[3]\n",
        "  w_L2 = finalL2[0]\n",
        "\n",
        "  # Plotting the graphs with a mark on the best lambda\n",
        "  plt.plot(lamInv[c], tr_loss[c], marker=\"o\", markersize=5, markeredgecolor=\"red\", markerfacecolor=\"red\",label=\"Best Lambda\")\n",
        "  plt.plot (lamInv,tr_loss)\n",
        "  plt.xlabel(\"1/λ\")\n",
        "  plt.ylabel(\"Training RMSE Loss\")\n",
        "  plt.legend()\n",
        "  plt.show()\n",
        "\n",
        "  plt.plot(lamInv[c], val_loss[c], marker=\"o\", markersize=5, markeredgecolor=\"red\", markerfacecolor=\"red\",label=\"Best Lambda\")\n",
        "  plt.plot (lamInv, val_loss)\n",
        "  plt.xlabel(\"1/λ\")\n",
        "  plt.ylabel(\"Validation RMSE Loss\")\n",
        "  plt.legend()\n",
        "  plt.show()"
      ],
      "metadata": {
        "id": "LTlFF0HwOjkN"
      },
      "execution_count": null,
      "outputs": []
    },
    {
      "cell_type": "code",
      "source": [
        "# this cell is just to run the entire method above and generate the Results\n",
        "bestLamL2 ()"
      ],
      "metadata": {
        "id": "xSgAnraZrWMy",
        "colab": {
          "base_uri": "https://localhost:8080/",
          "height": 767
        },
        "outputId": "bacfa022-53ff-4edc-e65d-a58e96d65778"
      },
      "execution_count": null,
      "outputs": [
        {
          "output_type": "stream",
          "name": "stdout",
          "text": [
            "Best Lamda  0.2530000000001028\n",
            "\n",
            "Weights  [-1.23880314e+00  2.15281916e+00 -1.50293033e+00 -5.60091154e-01\n",
            " -1.12160082e+00  4.78277919e-01 -4.27067506e-01  7.12889390e-01\n",
            " -1.18320271e+00  5.59539089e-01  1.08405912e+00 -8.81424375e-01\n",
            "  1.71300348e-01 -2.51236990e-02 -6.07349003e-02  7.60535656e-02\n",
            "  2.98409624e-01 -1.36707406e-02  1.15595519e+00 -8.54861713e-01\n",
            "  4.25020417e-01 -1.01042813e-04]\n",
            "\n",
            "Validation RMSE Loss  2.0704842783617274\n",
            "\n",
            "Validation NRMSE Loss  1.8193505091630224\n",
            "\n"
          ]
        },
        {
          "output_type": "display_data",
          "data": {
            "text/plain": [
              "<Figure size 432x288 with 1 Axes>"
            ],
            "image/png": "[encoded data removed]"
          },
          "metadata": {
            "needs_background": "light"
          }
        },
        {
          "output_type": "display_data",
          "data": {
            "text/plain": [
              "<Figure size 432x288 with 1 Axes>"
            ],
            "image/png": "[encoded data removed]"
          },
          "metadata": {
            "needs_background": "light"
          }
        }
      ]
    },
    {
      "cell_type": "markdown",
      "source": [
        "Finding the best lamda for **MSE+lamda*L1(w)** loss function i.e. L1 loss function.\n",
        "\n",
        "Plotting the training and validation RMSE vs. 1/lamda.\n",
        "\n",
        "Printing weights, validation RMSE, validation NRMSE for the best lamda."
      ],
      "metadata": {
        "id": "01Jd3eNUYlYg"
      }
    },
    {
      "cell_type": "code",
      "source": [
        "def bestLamL1 ():\n",
        "\n",
        "  # So that the global variables can be modified we need to declare them global.\n",
        "  global err_L1\n",
        "  global w_L1\n",
        "\n",
        "  # So we are to find a particular λ\n",
        "  # Before that we have to have a particular starting weights array it can be anything but has to be initialized.\n",
        "  sh = X.shape\n",
        "  w = np.random.randint(1,5,sh[1]) # Notice I avoided a 0 from  being a weight as it will cause an error if present\n",
        "\n",
        "  # Adding that bias temrm by adding a coloumn of 1s\n",
        "  w = np.append(w,1)\n",
        "\n",
        "  # These lists are to plot the required graphs\n",
        "  lamInv = []  # Complexity\n",
        "  tr_loss = [] # Training loss\n",
        "  val_loss = []# Validation loss\n",
        "\n",
        "  # I am using the same values as used to verify the gradient descent function's correctness\n",
        "  epsilon = 1e-10\n",
        "  max_iter = 100\n",
        "  lr = 1e-5\n",
        "\n",
        "  # I have observed that generally the error changes very less for higher values of complexity\n",
        "  # Thus I am considering plotting for complexities in the range of 0.1 to 40 as it captures the required parts\n",
        "  lamda = 10.0\n",
        "\n",
        "  # I am running the values of lambda in reverse so that the curve is plotted in increasing order of complexity\n",
        "  while (lamda >= 0.025):\n",
        "\n",
        "    # The gradient descent method gives the losses directly so using that\n",
        "    resultsL2 = Gradient_Descent (X, X_val, t, t_val, w, lamda, max_iter, epsilon, lr, L1_Loss,L1_Gradient)\n",
        "\n",
        "    # Appending the losses to the respective lists\n",
        "    tr_loss = np.append(tr_loss,resultsL2[1])\n",
        "    val_loss = np.append(val_loss,resultsL2[2])\n",
        "    lamInv = np.append(lamInv,(1/lamda))\n",
        "    lamda = lamda - 0.001\n",
        "\n",
        "  # Converting all the MSE losses to RMSE losses\n",
        "  tr_loss = np.sqrt(tr_loss)\n",
        "  val_loss = np.sqrt(val_loss)\n",
        "\n",
        "  # Now where to stop as the lowest value is better and better for increasing complexity\n",
        "  # Thus if the value is within 5% of its decay we are selecting that value\n",
        "  min_lim = min(val_loss)\n",
        "  max_lim = max(val_loss)\n",
        "\n",
        "  # tolerance stores the value at which we get the best lambda\n",
        "  tolerance = 0.05* (max_lim - min_lim) + min_lim\n",
        "\n",
        "  # c serves as the element index in the respective lists, to locate the best lambda\n",
        "  c = 0\n",
        "\n",
        "  # So now we go through the validation losses and select the first lambda that indicates the 95% decay of the loss\n",
        "  for i in val_loss :\n",
        "    if (i <= tolerance):\n",
        "      break\n",
        "    c = c + 1\n",
        "\n",
        "  # So the best lambda is found out by inverting the complexiy (in lamInv list) at index c\n",
        "  best_lamda = 1/lamInv[c]\n",
        "\n",
        "  # Using the gradient descent function one last time to get the best set of weights\n",
        "  # Now displaying them\n",
        "  finalL1 = Gradient_Descent (X, X_val, t, t_val, w, best_lamda, max_iter, epsilon, lr, L1_Loss,L1_Gradient)\n",
        "  print (\"Best Lamda \", str(best_lamda))\n",
        "  print()\n",
        "  print (\"Weights \", str(finalL1[0]))\n",
        "  print()\n",
        "  print (\"Validation RMSE Loss \", str(val_loss[c]))\n",
        "  print()\n",
        "  print (\"Validation NRMSE Loss \", str(finalL1[3]))\n",
        "\n",
        "  #storing the comparison parameters\n",
        "  err_L1 = finalL1[3]\n",
        "  w_L1 = finalL1[0]\n",
        "\n",
        "  # Plotting the graphs with a mark on the best lambda\n",
        "  plt.plot(lamInv[c], tr_loss[c], marker=\"o\", markersize=5, markeredgecolor=\"red\", markerfacecolor=\"red\",label=\"Best Lambda\")\n",
        "  plt.plot (lamInv,tr_loss)\n",
        "  plt.xlabel(\"1/λ\")\n",
        "  plt.ylabel(\"Training RMSE Loss\")\n",
        "  plt.legend()\n",
        "  plt.show()\n",
        "\n",
        "  plt.plot(lamInv[c], val_loss[c], marker=\"o\", markersize=5, markeredgecolor=\"red\", markerfacecolor=\"red\",label=\"Best Lambda\")\n",
        "  plt.plot (lamInv, val_loss)\n",
        "  plt.xlabel(\"1/λ\")\n",
        "  plt.ylabel(\"Validation RMSE Loss\")\n",
        "  plt.legend()\n",
        "  plt.show()"
      ],
      "metadata": {
        "id": "1G1sLJGgOkEO"
      },
      "execution_count": null,
      "outputs": []
    },
    {
      "cell_type": "code",
      "source": [
        "# this cell is just to run the entire method above and generate the Results\n",
        "bestLamL1()"
      ],
      "metadata": {
        "id": "Ngw2QPGsaaMc",
        "colab": {
          "base_uri": "https://localhost:8080/",
          "height": 715
        },
        "outputId": "747b24ac-556f-41cd-d06c-e92d86d85e57"
      },
      "execution_count": null,
      "outputs": [
        {
          "output_type": "stream",
          "name": "stdout",
          "text": [
            "Best Lamda  0.1350000000001027\n",
            "\n",
            "Weights  [ 0.42270774  0.23347993  0.76646569 -0.34176138  1.03485313 -0.72970751\n",
            " -0.23398165  0.06077622 -0.33141927  0.49362434 -0.44928896 -0.14848703\n",
            "  0.06357888 -0.07608411  0.01946544  0.09994237 -0.04609733 -0.01133291\n",
            "  0.11760808 -0.08363946  0.10887909  0.00538544]\n",
            "\n",
            "Validation RMSE Loss  1.119941150726551\n",
            "\n",
            "Validation NRMSE Loss  0.6860323881007023\n"
          ]
        },
        {
          "output_type": "display_data",
          "data": {
            "text/plain": [
              "<Figure size 432x288 with 1 Axes>"
            ],
            "image/png": "[encoded data removed]"
          },
          "metadata": {
            "needs_background": "light"
          }
        },
        {
          "output_type": "display_data",
          "data": {
            "text/plain": [
              "<Figure size 432x288 with 1 Axes>"
            ],
            "image/png": "[encoded data removed]"
          },
          "metadata": {
            "needs_background": "light"
          }
        }
      ]
    },
    {
      "cell_type": "markdown",
      "source": [
        "Finding the best lamda for **pseudo-inv method**.\n",
        "\n",
        "Plotting the training and validation RMSE vs. 1/lamda.\n",
        "\n",
        "Printing weights, validation RMSE, validation NRMSE for the best lamda.\n"
      ],
      "metadata": {
        "id": "1YqB2gXfYsdZ"
      }
    },
    {
      "cell_type": "code",
      "source": [
        "def bestLamPI ():\n",
        "\n",
        "  # So that the global variables can be modified we need to declare them global.\n",
        "  global err_PI\n",
        "  global w_PI\n",
        "\n",
        "  # So we are to find a particular λ\n",
        "  # Before that we have to have a particular starting weights array it can be anything but has to be initialized.\n",
        "  sh = X.shape\n",
        "  w = np.random.randint(-5,5,sh[1])\n",
        "\n",
        "  # Adding that bias temrm by adding a coloumn of 1s\n",
        "  w = np.append(w,1)\n",
        "\n",
        "  # These lists are to plot the required graphs\n",
        "  lamInv = []  # Complexity\n",
        "  tr_loss = [] # Training loss\n",
        "  val_loss = []# Validation loss\n",
        "\n",
        "  # I am using the same values as used to verify the gradient descent function's correctness\n",
        "  epsilon = 1e-10\n",
        "  max_iter = 100\n",
        "  lr = 1e-5\n",
        "\n",
        "  # Here too its observed that generally the error changes very less for higher values of complexity\n",
        "  # Thus I am considering plotting for complexities in the range of 0.002 to 10 as it captures the required part\n",
        "  lamda = 500.0\n",
        "\n",
        "  # I am running the values of lambda in reverse so that the curve is plotted in increasing order of complexity\n",
        "  while (lamda >= 1.0):\n",
        "    # Now in pseudo inverse method we dont need the gradient and related stuff.\n",
        "    # We can find the w by usig Pseudo Inverse function.\n",
        "    w_new = Pseudo_Inverse (X, t, lamda)\n",
        "\n",
        "    # Then using that we calculate the losses (MSE)\n",
        "    tr_loss = np.append(tr_loss, MSE_Loss (X, t, w_new, lamda))\n",
        "    val_loss = np.append(val_loss, MSE_Loss (X_val, t_val, w_new, lamda))\n",
        "    lamInv = np.append(lamInv,(1/lamda))\n",
        "    lamda = lamda - 0.01\n",
        "\n",
        "  # Converting all the MSE losses to RMSE losses\n",
        "  tr_loss = np.sqrt(tr_loss)\n",
        "  val_loss = np.sqrt(val_loss)\n",
        "\n",
        "  # In this method I am taking one precaution, sometimes the validation graph ight take a v shape\n",
        "  # So for that I am keeping an extra condition of stoppage from the training curve as well\n",
        "  # Now where to stop as the lowest value is better and better for increasing complexity\n",
        "  # Thus if the value is within 3% of its decay we are selecting that value\n",
        "  min_lim1 = min(val_loss)\n",
        "  max_lim1 = max(val_loss)\n",
        "\n",
        "  min_lim2 = min(tr_loss)\n",
        "  max_lim2 = max(tr_loss)\n",
        "\n",
        "  # tolerance stores the value at which we get the best lambda\n",
        "  tolerance1 = 0.03* (max_lim1 - min_lim1) + min_lim1\n",
        "  tolerance2 = 0.03* (max_lim2 - min_lim2) + min_lim2\n",
        "\n",
        "  # c serves as the element index in the respective lists, to locate the best lambda\n",
        "  c = 0\n",
        "\n",
        "  # So now we go through the validation losses and select the first lambda that indicates the 95% decay of the loss\n",
        "  while c <= len(tr_loss) :\n",
        "    if (val_loss[c] <= tolerance1)and(tr_loss[c] <= tolerance2):\n",
        "      break\n",
        "    c = c + 1\n",
        "\n",
        "  # So the best lambda is found out by inverting the complexiy (in lamInv list) at index c\n",
        "  best_lamda = 1/lamInv[c]\n",
        "\n",
        "  # Getting the best w corrosponding to the best value of lambda\n",
        "  w_new = Pseudo_Inverse (X, t, best_lamda)\n",
        "\n",
        "  #storing the comparison parameters\n",
        "  err_PI = NRMSE_Metric (X_val, t_val, w_new, best_lamda)\n",
        "  w_PI = w_new\n",
        "\n",
        "  # Thus all that's left is to display the values\n",
        "  print (\"Best Lamda \", str(best_lamda))\n",
        "  print()\n",
        "  print (\"Weights \", str(w_new))\n",
        "  print()\n",
        "  print (\"Validation RMSE Loss \", str(mt.sqrt(MSE_Loss (X_val, t_val, w_new, best_lamda))))\n",
        "  print()\n",
        "  print (\"Validation NRMSE Loss \", str(err_PI))\n",
        "  print()\n",
        "\n",
        "\n",
        "  #plotting the results with markers on the best lambda\n",
        "  plt.plot(lamInv[c], tr_loss[c], marker=\"o\", markersize=5, markeredgecolor=\"red\", markerfacecolor=\"red\", label =\"Best λ\")\n",
        "  plt.plot (lamInv,tr_loss)\n",
        "  plt.xlabel(\"1/λ\")\n",
        "  plt.ylabel(\"Training RMSE Loss\")\n",
        "  plt.legend()\n",
        "  plt.show()\n",
        "\n",
        "  plt.plot(lamInv[c], val_loss[c], marker=\"o\", markersize=5, markeredgecolor=\"red\", markerfacecolor=\"red\", label =\"Best λ\" )\n",
        "  plt.plot (lamInv, val_loss)\n",
        "  plt.xlabel(\"1/λ\")\n",
        "  plt.ylabel(\"Validation RMSE Loss\")\n",
        "  plt.legend()\n",
        "  plt.show()"
      ],
      "metadata": {
        "id": "dnJL8dUSDczM"
      },
      "execution_count": null,
      "outputs": []
    },
    {
      "cell_type": "code",
      "source": [
        "# this cell is just to run the entire method above and generate the Results\n",
        "bestLamPI()"
      ],
      "metadata": {
        "id": "Ty9pgfKBOkjv"
      },
      "execution_count": null,
      "outputs": []
    },
    {
      "cell_type": "markdown",
      "source": [
        "**Conclusion**\n",
        "\n",
        "Time taken by the L2 method of regression method is: ~ 14 - 15 min\n",
        "\n",
        "Time taken by the L1 method of regression method is: ~ 13 - 14 min\n",
        "\n",
        "Time taken by the Pseudo Inverse method is: ~ 1 - 2 min\n",
        "\n",
        "The plots of L2 loss and L1 loss model have a good learning rate whereas the Pseudo Inverse model for the same learning rate settles rapidly. But, it is ok-ish and the metrics perform good enough give values close to predicted (but not matching, proving no overfitting).  "
      ],
      "metadata": {
        "id": "Sh9o2iuOLjEn"
      }
    },
    {
      "cell_type": "code",
      "source": [
        "print (\"The best model thus is :\")\n",
        "print (\"The MSE+lamda*L2(w) based model's NRMSE is :\",str(err_L2))\n",
        "print (\"The MSE+lamda*L2(w) based model's NRMSE is :\",str(err_L1))\n",
        "print (\"The MSE+lamda*L2(w) based model's NRMSE is :\",str(err_PI))\n",
        "print ()\n",
        "# So simply comparing the NRMSE errors and selecting the one with the lowest value to select the best model\n",
        "if (err_L2 <= err_L1) and (err_L2 <= err_PI):\n",
        "   print (\"MSE+lamda*L2(w) Gradient Descent is the Best Model\")\n",
        "   bestModel_w = w_L2\n",
        "elif (err_L1 <= err_L2) and (err_L1 <= err_PI):\n",
        "   print (\"MSE+lamda*L1(w) Gradient Descent is the Best Model\")\n",
        "   bestModel_w = w_L1\n",
        "else:\n",
        "   print (\"Pseudo Inverse method is the Best Model\")\n",
        "   bestModel_w = w_PI"
      ],
      "metadata": {
        "id": "bkwHVO2Nz5BP"
      },
      "execution_count": null,
      "outputs": []
    },
    {
      "cell_type": "markdown",
      "source": [
        "Plotting a Line plot for the best model of prediction. Which in my case is for the case of Pseudo Inverse model. Its the fastest of the three and produces the lowest error for a give dataset.\n",
        "\n",
        "I will be taking the best lambda and the weights matrix directly and use it to produce a line plot to compare how good is the prediction in comparison to the actual value."
      ],
      "metadata": {
        "id": "y-Os2hmxXqVB"
      }
    },
    {
      "cell_type": "code",
      "source": [
        "predicted_y = Prediction(X_val, bestModel_w)\n",
        "\n",
        "# Now calulating the R^2 value of best model\n",
        "mean_t = np.mean(t_val)\n",
        "\n",
        "# The R^2 is given by ( Σ(Ypred - Ymean)^2 / Σ(Yactual - Ymean)^2 )\n",
        "numerator = np.sum(np.square(predicted_y - mean_t)) #The numerator\n",
        "denominator = np.sum(np.square(t_val - mean_t))     #The denominator\n",
        "R_squared = numerator/denominator\n",
        "print (\"R^2 parameter of the best model is: \"+str(R_squared))\n",
        "print ()\n",
        "\n",
        "# We are comparing the actual and predicted on the validation set using a line graph for 15 random data outputs\n",
        "print (\"The Actual vs predicted Model for a random 15 sets of inputs are:\")\n",
        "x_coor = [*range(1, 16, 1)]      # * helps us extract the elements of the range into an array\n",
        "pred_y_plot = predicted_y [1:16] # 15 values of Prediction\n",
        "val_y_plot  = t_val[1:16]        # The corrosponding 15 values actually\n",
        "\n",
        "plt.plot(x_coor, pred_y_plot, color='red',label=\"Prediction value\")\n",
        "plt.plot(x_coor, val_y_plot, color='blue',label=\"Actual value\")\n",
        "plt.xlabel(\"Sample Number\")\n",
        "plt.ylabel(\"Normalized Value of the quantity\")\n",
        "plt.legend()\n",
        "plt.show()"
      ],
      "metadata": {
        "id": "5nYoUUojXp4Y"
      },
      "execution_count": null,
      "outputs": []
    },
    {
      "cell_type": "markdown",
      "source": [
        "Now we are going to predict an output based on the dataset in the link: https://www.ee.iitb.ac.in/~asethi/Dump/TempTest.csv\n",
        "\n",
        "Using the methods which has performed the best."
      ],
      "metadata": {
        "id": "KdUK33kFXsII"
      }
    },
    {
      "cell_type": "code",
      "source": [
        "url_path2 =  \"https://www.ee.iitb.ac.in/~asethi/Dump/TempTest.csv\"\n",
        "df2 = pd.read_csv( url_path2 ) # reading data into a dataframe\n",
        "X_test = df2.to_numpy()        # converting the data into a numpy matrix\n",
        "prediction = Prediction(X_test, bestModel_w) #Using the best model weights from above to predict the values\n",
        "\n",
        "# Converting the array into dataframe\n",
        "df_out = pd.DataFrame(prediction)\n",
        "\n",
        "# save the dataframe as a csv file\n",
        "#df_out.to_csv(\"213230011_213350005_1.csv\")\n",
        "\n",
        "\n"
      ],
      "metadata": {
        "id": "93BkXK-pLiGR"
      },
      "execution_count": null,
      "outputs": []
    },
    {
      "cell_type": "markdown",
      "metadata": {
        "deletable": false,
        "editable": false,
        "nbgrader": {
          "cell_type": "markdown",
          "checksum": "de7f27538e4ad9db84b046b2752843f1",
          "grade": false,
          "grade_id": "cell-8a98f665f9567cec",
          "locked": true,
          "schema_version": 3,
          "solution": false,
          "task": false
        },
        "id": "cIKk0iDDP0g6"
      },
      "source": [
        "#**... Part 2 ends.**\n",
        "\n",
        "1. Write the name or roll no.s of friends from outside your group with whom you discussed the assignment here (no penalty for mere discussion without copying code):\n",
        "\n",
        "- I discussed a few areas of doubts with a friend Yashwant Nandi : 21335T002\n",
        "- I would like to thank the TAs who guided me.\n",
        "\n",
        "2. Write the links of sources on the internet referred here (no penalty for mere consultation without copying code):\n",
        "\n",
        "I reffered to the net mainly for the concepts and formulas but coding part is mostly my part, since I experimented with things like the tolerance for final or most preffered lambda value and so on, most of the code was according to the instructions and referrring to the package defined functions. Here are some of the websites to which I reffered to get formulas and understand algorithms.\n",
        "- https://www.geeksforgeeks.org/\n",
        "- https://www.w3schools.com/\n",
        "- https://stackoverflow.com/\n",
        "- https://numpy.org/doc/stable/index.html"
      ]
    }
  ],
  "metadata": {
    "kernelspec": {
      "display_name": "Python 3",
      "language": "python",
      "name": "python3"
    },
    "language_info": {
      "codemirror_mode": {
        "name": "ipython",
        "version": 3
      },
      "file_extension": ".py",
      "mimetype": "text/x-python",
      "name": "python",
      "nbconvert_exporter": "python",
      "pygments_lexer": "ipython3",
      "version": "3.8.3"
    },
    "colab": {
      "provenance": [],
      "collapsed_sections": [
        "blsZJkt_P0gs",
        "bE1CT6d_P0gu",
        "Sxaf4UzwP0gv",
        "4H6nliXuP0gx",
        "tB2won1aP0g0",
        "zuQrcqBKP0g4"
      ]
    }
  },
  "nbformat": 4,
  "nbformat_minor": 0
}